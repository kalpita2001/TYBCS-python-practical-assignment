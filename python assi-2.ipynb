{
 "cells": [
  {
   "cell_type": "code",
   "execution_count": 1,
   "id": "2f99234a",
   "metadata": {},
   "outputs": [
    {
     "name": "stdout",
     "output_type": "stream",
     "text": [
      "Enter any stringmadam\n",
      "given string is Not Symmetrical\n",
      "given string is Palindrome\n"
     ]
    }
   ],
   "source": [
    "#1.Write a python program to check whether the string is Symmetrical or Palindrome\n",
    "def symmetrical(str1,str2):\n",
    " if(str1==str2):\n",
    "     print(\"given string is Symmetrical\")\n",
    " else:\n",
    "     print(\"given string is Not Symmetrical\")\n",
    "def palindrome(str1,str2):\n",
    " if(str1==str2[::-1]):\n",
    "   print(\"given string is Palindrome\")\n",
    " else:\n",
    "   print(\"given string is Not Palindrome\")\n",
    "\n",
    "str=input(\"Enter any string\")\n",
    "size=len(str)\n",
    "mid=size//2\n",
    "if(size%2==0):\n",
    "    str1=str[:mid]\n",
    "    str2=str[mid:]\n",
    "else:\n",
    "    str1=str[:mid]\n",
    "    str2=str[mid+1:]\n",
    "symmetrical(str1,str2)\n",
    "palindrome(str1,str2)"
   ]
  },
  {
   "cell_type": "code",
   "execution_count": 2,
   "id": "8c7f2f14",
   "metadata": {},
   "outputs": [
    {
     "name": "stdout",
     "output_type": "stream",
     "text": [
      "programmer python a am I\n"
     ]
    }
   ],
   "source": [
    "#2.Write a python program to Reverse words in a given String\n",
    "string = \"I am a python programmer\"\n",
    "words = string.split()\n",
    "words = list(reversed(words))\n",
    "print(\" \".join(words))"
   ]
  },
  {
   "cell_type": "code",
   "execution_count": 3,
   "id": "093753e4",
   "metadata": {},
   "outputs": [
    {
     "name": "stdout",
     "output_type": "stream",
     "text": [
      "Pythnisgood\n"
     ]
    }
   ],
   "source": [
    "#3.Write a python program to remove i’th character from string in different ways\n",
    "def remove_char(s, i):\n",
    "    a = s[ : i]\n",
    "    b = s[i + 1: ]\n",
    "\n",
    "    return a+b\n",
    "\n",
    "string = \"Pythonisgood\"\n",
    "# Remove ith index element\n",
    "i = 5\n",
    "print(remove_char(string,i-1))"
   ]
  },
  {
   "cell_type": "code",
   "execution_count": 4,
   "id": "2d6b539d",
   "metadata": {},
   "outputs": [
    {
     "name": "stdout",
     "output_type": "stream",
     "text": [
      "Enter first number: 3\n",
      "Enter second number: 6\n",
      "Enter Third number: 9\n",
      "Largest number among  the three is 9\n"
     ]
    }
   ],
   "source": [
    "#1.Write a Python function to find the Max of three numbers.\n",
    "n1=int(input(\"Enter first number: \"));\n",
    "n2=int(input(\"Enter second number: \"));\n",
    "n3=int(input(\"Enter Third number: \"));\n",
    "def max():\n",
    "    if(n1>=n2) and (n1>=n3):\n",
    "        l=n1\n",
    "    elif(n2>=n1) and (n2>=n3):\n",
    "         l=n2\n",
    "    else:\n",
    "         l=n3\n",
    "    print(\"Largest number among  the three is\",l)\n",
    "max()"
   ]
  },
  {
   "cell_type": "code",
   "execution_count": 5,
   "id": "f10d48b9",
   "metadata": {},
   "outputs": [
    {
     "name": "stdout",
     "output_type": "stream",
     "text": [
      "20\n"
     ]
    }
   ],
   "source": [
    "#2.Write a Python function to sum all the numbers in a list.\n",
    "def sum(numbers):\n",
    "    total = 0\n",
    "    for x in numbers:\n",
    "        total += x\n",
    "    return total\n",
    "print(sum((8, 2, 3, 0, 7)))"
   ]
  },
  {
   "cell_type": "code",
   "execution_count": 6,
   "id": "04156493",
   "metadata": {},
   "outputs": [
    {
     "name": "stdout",
     "output_type": "stream",
     "text": [
      "The original string  is :  Hello I am Kalpita\n",
      "The reversed string using extended slice operator  is :  atiplaK ma I olleH\n"
     ]
    }
   ],
   "source": [
    "#3.Write a Python program to reverse a string.\n",
    "def reverse(str):   \n",
    "    str = str[::-1]   \n",
    "    return str   \n",
    "    \n",
    "s = \"Hello I am Kalpita\"  \n",
    "print (\"The original string  is : \",s)   \n",
    "print (\"The reversed string using extended slice operator  is : \",reverse(s))  "
   ]
  },
  {
   "cell_type": "code",
   "execution_count": 7,
   "id": "dfce3e11",
   "metadata": {},
   "outputs": [
    {
     "name": "stdout",
     "output_type": "stream",
     "text": [
      "Hello I am Kalpita\n",
      "am\n"
     ]
    }
   ],
   "source": [
    "#1.Write a python program to print even length words in a string\n",
    "def printWords(s):\n",
    "    print(s)\n",
    "    s = s.split(' ') \n",
    "    for word in s: \n",
    "        if len(word)%2==0:\n",
    "            print(word) \n",
    "            \n",
    "    s = \"i am kalpita\" \n",
    "printWords(s) "
   ]
  },
  {
   "cell_type": "code",
   "execution_count": 8,
   "id": "56dca3cc",
   "metadata": {},
   "outputs": [
    {
     "name": "stdout",
     "output_type": "stream",
     "text": [
      "Enter string:kalpita\n",
      "not accepted\n"
     ]
    }
   ],
   "source": [
    "#2.Write a python program to accept the strings which contains all vowels\n",
    "def check(string):\n",
    "    string = string.replace(' ', '')\n",
    "    string = string.lower()\n",
    "    vowel = [string.count('a'), string.count('e'), string.count(\n",
    "        'i'), string.count('o'), string.count('u')]\n",
    "\n",
    "    if vowel.count(0) > 0:\n",
    "        return('not accepted')\n",
    "    else:\n",
    "        return('accepted')\n",
    "\n",
    "if __name__ == \"__main__\":\n",
    "\n",
    "    string = input(\"Enter string:\")\n",
    "    print(check(string))"
   ]
  },
  {
   "cell_type": "code",
   "execution_count": 9,
   "id": "fc68aaba",
   "metadata": {},
   "outputs": [
    {
     "name": "stdout",
     "output_type": "stream",
     "text": [
      "Enter string1:komal\n",
      "Enter string2:kalpita\n",
      "No. of matching characters are  3\n"
     ]
    }
   ],
   "source": [
    "#3.Write a python program to Count the Number of matching characters in a pair of string\n",
    "import re\n",
    "ip1 = input(\"Enter string1:\")\n",
    "ip2 = input(\"Enter string2:\")\n",
    "  \n",
    "c = 0\n",
    "for i in ip1:\n",
    "    if re.search(i,ip2):\n",
    "        c=c+1\n",
    "print(\"No. of matching characters are \", c)"
   ]
  },
  {
   "cell_type": "code",
   "execution_count": 10,
   "id": "fae152c5",
   "metadata": {},
   "outputs": [
    {
     "name": "stdout",
     "output_type": "stream",
     "text": [
      "[1, 2, 3, 4]\n"
     ]
    }
   ],
   "source": [
    "#1. Write a Python function that takes a list and returns a new list with unique elements of the first list\n",
    "def f(list):\n",
    "\n",
    "    a=set(list)\n",
    "\n",
    "    print(sorted(a))\n",
    "\n",
    "f([1,1,1,2,3,4])"
   ]
  },
  {
   "cell_type": "code",
   "execution_count": 11,
   "id": "7c544cb1",
   "metadata": {},
   "outputs": [
    {
     "name": "stdout",
     "output_type": "stream",
     "text": [
      "Enter an input number:6\n",
      "6 is not a prime number\n"
     ]
    }
   ],
   "source": [
    "#2.Write a Python function that takes a number as a parameter and check the number is prime or not\n",
    "def PrimeChecker(a):  \n",
    "    if a > 1:  \n",
    "        for j in range(2, int(a/2) + 1):  \n",
    "            if (a % j) == 0:  \n",
    "                print(a, \"is not a prime number\")  \n",
    "                break  \n",
    "        else:  \n",
    "            print(a, \"is a prime number\")  \n",
    "    else:  \n",
    "        print(a, \"is not a prime number\")  \n",
    "a = int(input(\"Enter an input number:\"))  \n",
    "PrimeChecker(a)  "
   ]
  },
  {
   "cell_type": "code",
   "execution_count": 12,
   "id": "f24108c2",
   "metadata": {},
   "outputs": [
    {
     "name": "stdout",
     "output_type": "stream",
     "text": [
      "[1, 5, 2, 5, 3, 5, 4, 5, 5, 5]\n"
     ]
    }
   ],
   "source": [
    "#1. Write a Python program to append items from a specified list.\n",
    "input = [1, 2, 3, 4, 5]\n",
    "key = 5\n",
    "  \n",
    "result = []\n",
    "for ele in input:\n",
    "    result.append(ele)\n",
    "    result.append(key)\n",
    "  \n",
    "print(result)"
   ]
  },
  {
   "cell_type": "code",
   "execution_count": 13,
   "id": "cb59fad1",
   "metadata": {},
   "outputs": [
    {
     "name": "stdout",
     "output_type": "stream",
     "text": [
      "YES\n"
     ]
    }
   ],
   "source": [
    "#2.Write a python program Check if a Substring is Present in a Given String\n",
    "def check(string, sub_str):\n",
    "    if (string.find(sub_str) == -1):\n",
    "        print(\"NO\")\n",
    "    else:\n",
    "        print(\"YES\")\n",
    "            \n",
    "# driver code\n",
    "string = \"Hello Tybcs welcome\"\n",
    "sub_str =\"Tybcs\"\n",
    "check(string, sub_str)"
   ]
  },
  {
   "cell_type": "code",
   "execution_count": 14,
   "id": "fa475224",
   "metadata": {},
   "outputs": [
    {
     "name": "stdout",
     "output_type": "stream",
     "text": [
      "Frequency of apple is : 3\n",
      "Frequency of mango is : 3\n",
      "Frequency of orange is : 2\n",
      "Frequency of guava is : 1\n"
     ]
    }
   ],
   "source": [
    "#3.Write a python program Words Frequency in String Shorthands\n",
    "def freq(str):\n",
    "    str = str.split()         \n",
    "    str2 = []\n",
    "    for i in str:             \n",
    "        if i not in str2:\n",
    "            str2.append(i)               \n",
    "    for i in range(0, len(str2)):\n",
    "        print('Frequency of', str2[i], 'is :', str.count(str2[i]))      \n",
    "def main():\n",
    "    str ='apple mango apple orange orange apple guava mango mango'\n",
    "    freq(str)                    \n",
    "  \n",
    "if __name__==\"__main__\":\n",
    "    main()             "
   ]
  }
 ],
 "metadata": {
  "kernelspec": {
   "display_name": "Python 3 (ipykernel)",
   "language": "python",
   "name": "python3"
  },
  "language_info": {
   "codemirror_mode": {
    "name": "ipython",
    "version": 3
   },
   "file_extension": ".py",
   "mimetype": "text/x-python",
   "name": "python",
   "nbconvert_exporter": "python",
   "pygments_lexer": "ipython3",
   "version": "3.9.7"
  }
 },
 "nbformat": 4,
 "nbformat_minor": 5
}
