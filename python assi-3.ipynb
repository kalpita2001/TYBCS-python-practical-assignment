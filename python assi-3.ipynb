{
 "cells": [
  {
   "cell_type": "code",
   "execution_count": 1,
   "id": "24020fc3",
   "metadata": {},
   "outputs": [
    {
     "name": "stdout",
     "output_type": "stream",
     "text": [
      "Sum of all elements in given list: 57\n"
     ]
    }
   ],
   "source": [
    "#1) Write a Python program to sum all the items in a list.\n",
    "total = 0\n",
    "\n",
    "list = [17, 9, 5, 9, 17]\n",
    "\n",
    "for item in range(0, len(list)):\n",
    "\ttotal = total + list[item]\n",
    "\n",
    "print(\"Sum of all elements in given list:\",total)"
   ]
  },
  {
   "cell_type": "code",
   "execution_count": 2,
   "id": "a5efa025",
   "metadata": {},
   "outputs": [
    {
     "name": "stdout",
     "output_type": "stream",
     "text": [
      "[17, 9, 8, 1]\n",
      "product:  1224\n"
     ]
    }
   ],
   "source": [
    "#2) Write a Python program to multiplies all the items in a list.\n",
    "def mult_list(list):\n",
    "\n",
    "    product = 1\n",
    "    for i in list:\n",
    "        product = product * i\n",
    "    return product\n",
    "\n",
    "\n",
    "list1 = [17, 9, 8, 1]\n",
    "print(list1)\n",
    "print(\"product: \", mult_list(list1))"
   ]
  },
  {
   "cell_type": "code",
   "execution_count": 3,
   "id": "2bd534f9",
   "metadata": {},
   "outputs": [
    {
     "name": "stdout",
     "output_type": "stream",
     "text": [
      "Sorted:\n",
      "[(1, 2), (2, 2), (2, 3)]\n"
     ]
    }
   ],
   "source": [
    "#3) Write a Python program to get a list, sorted in increasing order by the last element in each tuple \n",
    "#from a given list of non-empty tuples.\n",
    "def last(n):\n",
    "    return n[-1]\n",
    "\n",
    "def sort(tuples):\n",
    "    return sorted(tuples, key=last)\n",
    "\n",
    "a=[(2, 3), (1, 2), (2, 2)]\n",
    "print(\"Sorted:\")\n",
    "print(sort(a))"
   ]
  },
  {
   "cell_type": "code",
   "execution_count": 4,
   "id": "3a90b465",
   "metadata": {},
   "outputs": [
    {
     "name": "stdout",
     "output_type": "stream",
     "text": [
      "(10, 20, 30, 40, 50)\n",
      "Datatype of y=  <class 'tuple'>\n"
     ]
    }
   ],
   "source": [
    "#1) Write a Python program to create a tuple.\n",
    "x = (10, 20, 30, 40, 50)\n",
    "print(x)\n",
    "print(\"Datatype of y= \", type(x))"
   ]
  },
  {
   "cell_type": "code",
   "execution_count": 5,
   "id": "93f79095",
   "metadata": {},
   "outputs": [
    {
     "name": "stdout",
     "output_type": "stream",
     "text": [
      "('tuple', False, '3.2', 17)\n"
     ]
    }
   ],
   "source": [
    "#2) Write a Python program to create a tuple with different data types.\n",
    "t1 = (\"tuple\", False, \"3.2\", 17)\n",
    "print(t1)"
   ]
  },
  {
   "cell_type": "code",
   "execution_count": 6,
   "id": "d0f8869f",
   "metadata": {},
   "outputs": [
    {
     "name": "stdout",
     "output_type": "stream",
     "text": [
      "True\n",
      "False\n",
      "False\n"
     ]
    }
   ],
   "source": [
    "#3) Write a Python program to check whether an element exists within a tuple\n",
    "t1 = (\"p\", \"y\", \"t\", \"h\", \"o\", \"n\", \"p\", \"r\", \"o\",\"g\",\"r\",\"a\",\"m\",\"e\")\n",
    "print(\"p\" in t1)\n",
    "print(\"H\" in t1)\n",
    "print(5 in t1)"
   ]
  },
  {
   "cell_type": "code",
   "execution_count": 7,
   "id": "f7460482",
   "metadata": {},
   "outputs": [
    {
     "name": "stdout",
     "output_type": "stream",
     "text": [
      "{'in', 'practical', 'wlecome', 'tybcs', 'python'}\n",
      "<class 'set'>\n"
     ]
    }
   ],
   "source": [
    "#1) Write a Python program to create a set.\n",
    "\n",
    "x=set(['wlecome','tybcs','in','python','practical'])\n",
    "print(x)\n",
    "print(type(x))"
   ]
  },
  {
   "cell_type": "code",
   "execution_count": 8,
   "id": "d63d53d3",
   "metadata": {},
   "outputs": [
    {
     "name": "stdout",
     "output_type": "stream",
     "text": [
      "0 1 2 3 4 5 \n",
      "\n",
      "Creating a set using string:\n",
      "t n y h P o "
     ]
    }
   ],
   "source": [
    "#2) Write a Python program to iterate over sets.\n",
    "num_set = set([0, 1, 2, 3, 4, 5])\n",
    "for n in num_set:\n",
    "  print(n, end=' ')\n",
    "\n",
    "print(\"\\n\\nCreating a set using string:\")\n",
    "char_set = set(\"Python\")  \n",
    "\n",
    "for val in char_set:\n",
    "    print(val, end=' ')"
   ]
  },
  {
   "cell_type": "code",
   "execution_count": 9,
   "id": "31a24a4d",
   "metadata": {},
   "outputs": [
    {
     "name": "stdout",
     "output_type": "stream",
     "text": [
      "\n",
      "Original sets:\n",
      "{1, 2, 3, 4, 5}\n",
      "{1, 5, 6, 7, 8, 9}\n",
      "\n",
      "Difference of set1 - set2:\n",
      "{2, 3, 4}\n",
      "\n",
      "Difference of set2 - set1:\n",
      "{8, 9, 6, 7}\n"
     ]
    }
   ],
   "source": [
    "#3) Write a Python program to create set difference.\n",
    "set1 = set([1, 1, 2, 3, 4, 5])\n",
    "set2 = set([1, 5, 6, 7, 8, 9])\n",
    "\n",
    "print(\"\\nOriginal sets:\")\n",
    "print(set1)\n",
    "print(set2)\n",
    "\n",
    "r1 = set1.difference(set2)\n",
    "print(\"\\nDifference of set1 - set2:\")\n",
    "print(r1)\n",
    "\n",
    "r2 = set2.difference(set1)\n",
    "print(\"\\nDifference of set2 - set1:\")\n",
    "print(r2)"
   ]
  },
  {
   "cell_type": "code",
   "execution_count": 10,
   "id": "922acfea",
   "metadata": {},
   "outputs": [
    {
     "name": "stdout",
     "output_type": "stream",
     "text": [
      "Original dictionary :  {1: 2, 3: 4, 4: 3, 2: 1, 0: 0}\n",
      "Ascending order by value :  {0: 0, 2: 1, 1: 2, 4: 3, 3: 4}\n",
      "Descending order by value :  {3: 4, 4: 3, 1: 2, 2: 1, 0: 0}\n"
     ]
    }
   ],
   "source": [
    "#1) Write a Python script to sort (ascending and descending) a dictionary by value.\n",
    "import operator\n",
    "d = {1: 2, 3: 4, 4: 3, 2: 1, 0: 0}\n",
    "print('Original dictionary : ',d)\n",
    "\n",
    "Sort_dict = dict( sorted(d.items(), key=operator.itemgetter(1)))\n",
    "print('Ascending order by value : ',Sort_dict)\n",
    "\n",
    "Sort_dict = dict( sorted(d.items(), key=operator.itemgetter(1),reverse=True))\n",
    "print('Descending order by value : ',Sort_dict)"
   ]
  },
  {
   "cell_type": "code",
   "execution_count": 11,
   "id": "af725f02",
   "metadata": {},
   "outputs": [
    {
     "name": "stdout",
     "output_type": "stream",
     "text": [
      "{0: 10, 1: 20}\n",
      "Updated Dictionary with key :\n",
      "{0: 10, 1: 20, 2: 30}\n"
     ]
    }
   ],
   "source": [
    "#2) Write a Python script to add a key to a dictionary.\n",
    "d = {0:10, 1:20}\n",
    "print(d)\n",
    "d.update({2:30})\n",
    "print(\"Updated Dictionary with key :\")\n",
    "print(d)"
   ]
  },
  {
   "cell_type": "code",
   "execution_count": 12,
   "id": "67fdffd1",
   "metadata": {},
   "outputs": [
    {
     "name": "stdout",
     "output_type": "stream",
     "text": [
      "Red corresponds to  5\n",
      "Green corresponds to  2\n",
      "Blue corresponds to  3\n"
     ]
    }
   ],
   "source": [
    "#3) Write a Python program to iterate over dictionaries using for loops.\n",
    "d = {'Red': 5, 'Green': 2, 'Blue': 3} \n",
    "for color_key, value in d.items():\n",
    "     print(color_key, 'corresponds to ', d[color_key])"
   ]
  },
  {
   "cell_type": "code",
   "execution_count": 13,
   "id": "9e821404",
   "metadata": {},
   "outputs": [
    {
     "name": "stdout",
     "output_type": "stream",
     "text": [
      "List Before removing duplicates :\n",
      " [1, 2, 3, 1, 2, 4, 5, 4, 6, 2, 5, 8, 8]\n",
      "List After removing duplicates :\n",
      " [1, 2, 3, 4, 5, 6, 8]\n"
     ]
    }
   ],
   "source": [
    "#1. Write a Python program to remove duplicates from a list.\n",
    "list1 = [1, 2, 3, 1, 2, 4, 5, 4 ,6, 2,5,8,8]\n",
    "print(\"List Before removing duplicates :\\n\", list1)\n",
    "list2 = [] #Temporary List\n",
    "\n",
    "for i in list1:\n",
    "    if i not in list2:\n",
    "        list2.append(i)\n",
    "\n",
    "list1 = list2\n",
    "\n",
    "print(\"List After removing duplicates :\\n\", list1)"
   ]
  },
  {
   "cell_type": "code",
   "execution_count": 14,
   "id": "5453365e",
   "metadata": {},
   "outputs": [
    {
     "name": "stdout",
     "output_type": "stream",
     "text": [
      "The list is not empty\n"
     ]
    }
   ],
   "source": [
    "#2. Write a Python program to check a list is empty or not.\n",
    "def Enquiry(lis1):\n",
    "    if len(lis1) == 0:\n",
    "        return 0\n",
    "    else:\n",
    "        return 1\n",
    "        \n",
    "# Driver Code\n",
    "lis1 = [5,6]\n",
    "if Enquiry(lis1):\n",
    "    print (\"The list is not empty\")\n",
    "else:\n",
    "    print(\"Empty List\")"
   ]
  },
  {
   "cell_type": "code",
   "execution_count": 15,
   "id": "4659b5ee",
   "metadata": {},
   "outputs": [
    {
     "name": "stdout",
     "output_type": "stream",
     "text": [
      "(1, 2, 3, 4)\n"
     ]
    }
   ],
   "source": [
    "#1. Write a Python program to convert a list to a tuple.\n",
    "def convert(list):\n",
    "    return tuple(list)\n",
    "\n",
    "list = [1, 2, 3, 4]\n",
    "print(convert(list))"
   ]
  },
  {
   "cell_type": "code",
   "execution_count": 16,
   "id": "258ca18e",
   "metadata": {},
   "outputs": [
    {
     "name": "stdout",
     "output_type": "stream",
     "text": [
      "[(1, 2), ('Python', 'practical')]\n"
     ]
    }
   ],
   "source": [
    "#2. Write a Python program to remove an item from a tuple.\n",
    "tuple = [(1,2), (2.25, 9.9), (\"Python\", \"practical\")]\n",
    "tuple.pop(1)\n",
    "print(tuple)"
   ]
  },
  {
   "cell_type": "code",
   "execution_count": 17,
   "id": "7ebdbb9e",
   "metadata": {},
   "outputs": [
    {
     "name": "stdout",
     "output_type": "stream",
     "text": [
      "Tuple Items =  (11, 22, 33, 44, 55, 66, 77, 88, 99, 100)\n",
      "Tuple Items from 2 to 6 =  (22, 33, 44, 55, 66, 77)\n"
     ]
    }
   ],
   "source": [
    "#3. Write a Python program to slice a tuple.\n",
    "numTuple = (11, 22, 33, 44, 55, 66, 77, 88, 99, 100)\n",
    "print(\"Tuple Items = \", numTuple)\n",
    "\n",
    "slice1 = numTuple[1:7]\n",
    "print(\"Tuple Items from 2 to 6 = \", slice1)"
   ]
  },
  {
   "cell_type": "code",
   "execution_count": 18,
   "id": "0c3a2c4c",
   "metadata": {},
   "outputs": [
    {
     "name": "stdout",
     "output_type": "stream",
     "text": [
      "Tuple Items =  (10, 20, 30, 40, 50, 60)\n",
      "Tuple Length =  6\n"
     ]
    }
   ],
   "source": [
    "#4. Write a Python program to find the length of a tuple.\n",
    "tuple1 = (10, 20, 30, 40, 50,60)\n",
    "print(\"Tuple Items = \", tuple1)\n",
    "\n",
    "print(\"Tuple Length = \", len(tuple1))"
   ]
  },
  {
   "cell_type": "code",
   "execution_count": 19,
   "id": "244c622e",
   "metadata": {},
   "outputs": [
    {
     "name": "stdout",
     "output_type": "stream",
     "text": [
      "A is SubSet B : True\n",
      "B is SubSet A : False\n",
      "A is SubSet C : False\n",
      "C is SubSet B : True\n"
     ]
    }
   ],
   "source": [
    "#1. Write a Python program to check if a set is a subset of another set.\n",
    "A = {1, 2, 3,4}\n",
    "B = {1, 2, 3, 4, 6}\n",
    "C = {1, 2, 4,4}\n",
    "\n",
    "print(\"A is SubSet B :\",A.issubset(B))\n",
    "\n",
    "print(\"B is SubSet A :\",B.issubset(A))\n",
    "\n",
    "print(\"A is SubSet C :\",A.issubset(C))\n",
    "\n",
    "print(\"C is SubSet B :\",C.issubset(B))"
   ]
  },
  {
   "cell_type": "code",
   "execution_count": 20,
   "id": "8196ae1a",
   "metadata": {},
   "outputs": [
    {
     "name": "stdout",
     "output_type": "stream",
     "text": [
      "Original set elements:\n",
      "{2, 3, 20, 5, 10, 15}\n",
      "<class 'set'>\n",
      "\n",
      "Maximum value of the said set:\n",
      "20\n",
      "\n",
      "Minimum value of the said set:\n",
      "2\n"
     ]
    }
   ],
   "source": [
    "#2. Write a Python program to find maximum and the minimum value in a set.\n",
    "setn = {5, 10, 3, 15, 2, 20}\n",
    "print(\"Original set elements:\")\n",
    "print(setn)\n",
    "print(type(setn))\n",
    "\n",
    "print(\"\\nMaximum value of the said set:\")\n",
    "print(max(setn))\n",
    "\n",
    "print(\"\\nMinimum value of the said set:\")\n",
    "print(min(setn))"
   ]
  },
  {
   "cell_type": "code",
   "execution_count": 21,
   "id": "773a8281",
   "metadata": {},
   "outputs": [
    {
     "name": "stdout",
     "output_type": "stream",
     "text": [
      "\n",
      "Original set elements:\n",
      "{2, 3, 20, 5, 10, 15}\n",
      "<class 'set'>\n",
      "Length of the set:\n",
      "6\n",
      "\n",
      "Original set elements:\n",
      "{5}\n",
      "Length of the set:\n",
      "1\n",
      "\n",
      "Original set elements:\n",
      "{5, 7}\n",
      "Length of the set:\n",
      "2\n"
     ]
    }
   ],
   "source": [
    "#3. Write a Python program to find the length of a set.\n",
    "setn = {5, 10, 3, 15, 2, 20}\n",
    "print(\"\\nOriginal set elements:\")\n",
    "print(setn)\n",
    "print(type(setn))\n",
    "print(\"Length of the set:\")\n",
    "print(len(setn))\n",
    "\n",
    "setn = {5, 5, 5, 5, 5, 5}\n",
    "print(\"\\nOriginal set elements:\")\n",
    "print(setn)\n",
    "print(\"Length of the set:\")\n",
    "print(len(setn))\n",
    "\n",
    "setn = {5, 5, 5, 5, 5, 5, 7}\n",
    "print(\"\\nOriginal set elements:\")\n",
    "print(setn)\n",
    "print(\"Length of the set:\")\n",
    "print(len(setn))"
   ]
  },
  {
   "cell_type": "code",
   "execution_count": 22,
   "id": "f02d6759",
   "metadata": {},
   "outputs": [
    {
     "name": "stdout",
     "output_type": "stream",
     "text": [
      "Input a number :5\n",
      "A number (between 1 and n) in the form (x, x*x) :\n",
      "  {1: 1, 2: 4, 3: 9, 4: 16, 5: 25}\n"
     ]
    }
   ],
   "source": [
    "#1. Write a Python script to generate and print a dictionary that contains a number (between 1 and n) \n",
    "#in the form (x, x*x).\n",
    "n=int(input(\"Input a number :\"))\n",
    "d = dict()\n",
    "\n",
    "for x in range(1,n+1):\n",
    "    d[x]=x*x\n",
    "\n",
    "print(\"A number (between 1 and n) in the form (x, x*x) :\\n \",d) "
   ]
  },
  {
   "cell_type": "code",
   "execution_count": 23,
   "id": "67fbb08d",
   "metadata": {},
   "outputs": [
    {
     "name": "stdout",
     "output_type": "stream",
     "text": [
      "Dictionary 1: {'a': 100, 'b': 200}\n",
      "\n",
      "Dictionary 2: {'x': 300, 'y': 200}\n",
      "\n",
      "Merged Dictionary :\n",
      " {'a': 100, 'b': 200, 'x': 300, 'y': 200}\n"
     ]
    }
   ],
   "source": [
    "#2. Write a Python script to merge two Python dictionaries.\n",
    "d1 = {'a': 100, 'b': 200}\n",
    "print(\"Dictionary 1:\",d1)\n",
    "d2 = {'x': 300, 'y': 200}\n",
    "print(\"\\nDictionary 2:\",d2)\n",
    "d = d1.copy()\n",
    "d.update(d2)\n",
    "print(\"\\nMerged Dictionary :\\n\",d)"
   ]
  },
  {
   "cell_type": "code",
   "execution_count": 24,
   "id": "165de37d",
   "metadata": {},
   "outputs": [
    {
     "name": "stdout",
     "output_type": "stream",
     "text": [
      "{'x': 'red', 'y': 'Yellow', 'z': 'Green'}\n"
     ]
    }
   ],
   "source": [
    "#3. Write a Python program to get a dictionary from an object's fields.\n",
    "class dictObj(object):\n",
    "     def __init__(self):\n",
    "         self.x = 'red'\n",
    "         self.y = 'Yellow'\n",
    "         self.z = 'Green'\n",
    "     def do_nothing(self):\n",
    "         pass\n",
    "test = dictObj()\n",
    "print(test.__dict__)"
   ]
  },
  {
   "cell_type": "code",
   "execution_count": 25,
   "id": "d892c7fd",
   "metadata": {},
   "outputs": [
    {
     "name": "stdout",
     "output_type": "stream",
     "text": [
      "Largest element is: 105\n"
     ]
    }
   ],
   "source": [
    "#1. Write a Python program to get the largest number from a list.\n",
    "list1 = [10, 20, 4, 45, 99,105]\n",
    "list1.sort()\n",
    "print(\"Largest element is:\", list1[-1])"
   ]
  },
  {
   "cell_type": "code",
   "execution_count": 26,
   "id": "d8f417b3",
   "metadata": {},
   "outputs": [
    {
     "name": "stdout",
     "output_type": "stream",
     "text": [
      "Smallest element is: 0\n"
     ]
    }
   ],
   "source": [
    "#2. Write a Python program to get the smallest number from a list.\n",
    "list1 = [10, 20, 4, 45, 99,0]\n",
    "list1.sort()\n",
    "print(\"Smallest element is:\", *list1[:1])"
   ]
  },
  {
   "cell_type": "code",
   "execution_count": 27,
   "id": "ecfdf86f",
   "metadata": {},
   "outputs": [
    {
     "name": "stdout",
     "output_type": "stream",
     "text": [
      "3\n"
     ]
    }
   ],
   "source": [
    "#3. Write a Python program to count the number of strings where the string length is 2 \n",
    "#or more and the first and last character are same from a given list of strings\n",
    "def match_words(words):\n",
    "  ctr = 0\n",
    "\n",
    "  for word in words:\n",
    "    if len(word) > 1 and word[0] == word[-1]:\n",
    "      ctr += 1\n",
    "  return ctr\n",
    "\n",
    "print(match_words(['abc', 'xyz', 'aba', '1221','121','xyxab']))"
   ]
  },
  {
   "cell_type": "code",
   "execution_count": 28,
   "id": "2f9929e5",
   "metadata": {},
   "outputs": [
    {
     "name": "stdout",
     "output_type": "stream",
     "text": [
      "Tuple Items =  (10, 20, 30, 40, 50)\n",
      "Tuple Items =  (10, 20, 30, 40, 50, 70)\n",
      "Tuple Items =  (10, 20, 30, 40, 50, 70, 80, 90)\n",
      "Tuple Items =  (30, 40, 50, 11, 22, 33, 44, 90)\n"
     ]
    }
   ],
   "source": [
    "#4. Write a Python program to add an item in a tuple.\n",
    "#create a tuple\n",
    "intTuple = (10, 20, 30, 40, 50)\n",
    "print(\"Tuple Items = \", intTuple)\n",
    "\n",
    "intTuple = intTuple + (70,)\n",
    "print(\"Tuple Items = \", intTuple)\n",
    "\n",
    "intTuple = intTuple + (80, 90)\n",
    "print(\"Tuple Items = \", intTuple)\n",
    "\n",
    "intTuple = intTuple[2:5] + (11, 22, 33, 44) + intTuple[7:]\n",
    "print(\"Tuple Items = \", intTuple)"
   ]
  },
  {
   "cell_type": "code",
   "execution_count": 29,
   "id": "7d95ec1d",
   "metadata": {},
   "outputs": [
    {
     "name": "stdout",
     "output_type": "stream",
     "text": [
      "('p', 'y', 't', 'h', 'o', 'n')\n",
      "python\n"
     ]
    }
   ],
   "source": [
    "#5. Write a Python program to convert a tuple to a string.\n",
    "def convertTuple(tup):\n",
    "        # initialize an empty string\n",
    "    str = ''\n",
    "    for item in tup:\n",
    "        str = str + item\n",
    "    return str\n",
    " \n",
    "tuple = ('p', 'y', 't', 'h', 'o','n')\n",
    "str = convertTuple(tuple)\n",
    "print(tuple)\n",
    "print(str)"
   ]
  },
  {
   "cell_type": "code",
   "execution_count": 30,
   "id": "25ca7080",
   "metadata": {},
   "outputs": [
    {
     "name": "stdout",
     "output_type": "stream",
     "text": [
      "('HELLO', 5, [], True)\n",
      "('HELLO', 5, [50], True)\n",
      "('HELLO', 5, [], True)\n"
     ]
    }
   ],
   "source": [
    "#6. Write a Python program to create the colon of a tuple.\n",
    "from copy import deepcopy\n",
    "#create a tuple\n",
    "tuplex = (\"HELLO\", 5, [], True) \n",
    "print(tuplex)\n",
    "#make a copy of a tuple using deepcopy() function\n",
    "tuplex_colon = deepcopy(tuplex)\n",
    "tuplex_colon[2].append(50)\n",
    "print(tuplex_colon)\n",
    "print(tuplex)"
   ]
  },
  {
   "cell_type": "code",
   "execution_count": 31,
   "id": "0d815895",
   "metadata": {},
   "outputs": [
    {
     "name": "stdout",
     "output_type": "stream",
     "text": [
      "(4, 8, 3, 5)\n",
      "20\n"
     ]
    }
   ],
   "source": [
    "#7. Write a Python program to unpack a tuple in several variables\n",
    "tuplex = 4, 8, 3,5\n",
    "print(tuplex)\n",
    "n1, n2, n3,n4 = tuplex\n",
    "#unpack a tuple in variables\n",
    "print(n1 + n2 + n3+n4) \n",
    "#the number of variables must be equal to the number of items of the tuple\n",
    "n1, n2, n3, n4= tuplex "
   ]
  },
  {
   "cell_type": "code",
   "execution_count": 32,
   "id": "09179e43",
   "metadata": {},
   "outputs": [
    {
     "name": "stdout",
     "output_type": "stream",
     "text": [
      "set()\n",
      "\n",
      "Add single element:\n",
      "{'Red'}\n",
      "\n",
      "Add multiple items:\n",
      "{'Blue', 'Green', 'Red'}\n"
     ]
    }
   ],
   "source": [
    "#8. Write a Python program to add member(s) in a set.\n",
    "color_set = set()\n",
    "print(color_set)\n",
    "print(\"\\nAdd single element:\")\n",
    "color_set.add(\"Red\")\n",
    "print(color_set)\n",
    "print(\"\\nAdd multiple items:\")\n",
    "color_set.update([\"Blue\", \"Green\"])\n",
    "print(color_set)"
   ]
  },
  {
   "cell_type": "code",
   "execution_count": 33,
   "id": "317a0ea7",
   "metadata": {},
   "outputs": [
    {
     "name": "stdout",
     "output_type": "stream",
     "text": [
      "Original set:\n",
      "{0, 1, 3, 4, 5}\n",
      "\n",
      "After removing the element from the set:\n",
      "{1, 3, 4, 5}\n"
     ]
    }
   ],
   "source": [
    "#9. Write a Python program to remove item(s) from set\n",
    "num_set = set([0, 1, 3, 4, 5])\n",
    "print(\"Original set:\")\n",
    "print(num_set)\n",
    "num_set.pop()\n",
    "print(\"\\nAfter removing the element from the set:\")\n",
    "print(num_set)"
   ]
  },
  {
   "cell_type": "code",
   "execution_count": 34,
   "id": "a39b7eb4",
   "metadata": {},
   "outputs": [
    {
     "name": "stdout",
     "output_type": "stream",
     "text": [
      "{2, 5}\n",
      "{2}\n",
      "{2, 3}\n",
      "{2}\n"
     ]
    }
   ],
   "source": [
    "#10. Write a Python program to create an intersection of sets\n",
    "A = {2, 3, 5, 4}\n",
    "B = {2, 5, 100}\n",
    "C = {2, 3, 8, 9, 10}\n",
    "\n",
    "print(B.intersection(A))\n",
    "print(B.intersection(C))\n",
    "print(A.intersection(C))\n",
    "\n",
    "print(C.intersection(A, B))"
   ]
  },
  {
   "cell_type": "code",
   "execution_count": 35,
   "id": "356fe560",
   "metadata": {},
   "outputs": [
    {
     "name": "stdout",
     "output_type": "stream",
     "text": [
      "set1 U set2 :  {2, 4, 5, 6, 7, 8}\n",
      "set1 U set2 U set3 : {2, 4, 5, 6, 7, 8, 9, 10}\n"
     ]
    }
   ],
   "source": [
    "#11. Write a Python program to create a union of sets.\n",
    "# Python3 program for union() function\n",
    " \n",
    "set1 = {2, 4, 5, 6}\n",
    "set2 = {4, 6, 7, 8}\n",
    "set3 = {7, 8, 9, 10}\n",
    " \n",
    "# union of two sets\n",
    "print(\"set1 U set2 : \", set1.union(set2))\n",
    " \n",
    "# union of three sets\n",
    "print(\"set1 U set2 U set3 :\", set1.union(set2, set3))"
   ]
  },
  {
   "cell_type": "code",
   "execution_count": 36,
   "id": "396bb4d3",
   "metadata": {},
   "outputs": [
    {
     "name": "stdout",
     "output_type": "stream",
     "text": [
      "{2.2: 8.5, 1: 10, 2: 20, 3: 30, 4: 40, 5: 50, 6: 60}\n"
     ]
    }
   ],
   "source": [
    "#12. Write a Python script to concatenate following dictionaries to create a new one.\n",
    "dic1={1:10, 2:20}  \n",
    "dic2={3:30, 4:40}  \n",
    "dic3={5:50,6:60}  \n",
    "dic4 = {2.20:8.50}  \n",
    "for d in (dic1, dic2, dic3): dic4.update(d)  \n",
    "print(dic4)"
   ]
  },
  {
   "cell_type": "code",
   "execution_count": 37,
   "id": "67e27d17",
   "metadata": {},
   "outputs": [
    {
     "name": "stdout",
     "output_type": "stream",
     "text": [
      "{'red': '#FF0000', 'green': '#008000', 'blue': '#0000FF'}\n"
     ]
    }
   ],
   "source": [
    "#13. Write a Python program to map two lists into a dictionary.\n",
    "keys = ['red', 'green', 'blue']\n",
    "values = ['#FF0000','#008000', '#0000FF']\n",
    "color_dictionary = dict(zip(keys, values))\n",
    "print(color_dictionary)"
   ]
  },
  {
   "cell_type": "code",
   "execution_count": 38,
   "id": "38faa9c8",
   "metadata": {},
   "outputs": [
    {
     "name": "stdout",
     "output_type": "stream",
     "text": [
      "black: #000000\n",
      "green: #008000\n",
      "red: #FF0000\n",
      "white: #FFFFFF\n"
     ]
    }
   ],
   "source": [
    "#14. Write a Python program to sort a dictionary by key.\n",
    "color_dict = {'red':'#FF0000',\n",
    "          'green':'#008000',\n",
    "          'black':'#000000',\n",
    "          'white':'#FFFFFF'}\n",
    "\n",
    "for key in sorted(color_dict):\n",
    "    print(\"%s: %s\" % (key, color_dict[key]))"
   ]
  },
  {
   "cell_type": "code",
   "execution_count": 39,
   "id": "a4f7b234",
   "metadata": {},
   "outputs": [
    {
     "name": "stdout",
     "output_type": "stream",
     "text": [
      "Maximum Value:  5874\n",
      "Minimum Value:  500\n"
     ]
    }
   ],
   "source": [
    "#15. Write a Python program to get the maximum and minimum value in a dictionary\n",
    "my_dict = {'x':500, 'y':5874, 'z': 560}\n",
    "\n",
    "key_max = max(my_dict.keys(), key=(lambda k: my_dict[k]))\n",
    "key_min = min(my_dict.keys(), key=(lambda k: my_dict[k]))\n",
    "\n",
    "print('Maximum Value: ',my_dict[key_max])\n",
    "print('Minimum Value: ',my_dict[key_min])"
   ]
  },
  {
   "cell_type": "code",
   "execution_count": 40,
   "id": "da65dcfb",
   "metadata": {},
   "outputs": [
    {
     "name": "stdout",
     "output_type": "stream",
     "text": [
      "Original List: [4, 8, 2, 10, 15, 18]\n",
      "After Cloning: [4, 8, 2, 10, 15, 18]\n"
     ]
    }
   ],
   "source": [
    "#16. Write a Python program to clone or copy a list.\n",
    "def Cloning(li1):\n",
    "    li_copy = li1[:]\n",
    "    return li_copy\n",
    "   \n",
    "# Driver Code\n",
    "li1 = [4, 8, 2, 10, 15, 18]\n",
    "li2 = Cloning(li1)\n",
    "print(\"Original List:\", li1)\n",
    "print(\"After Cloning:\", li2)"
   ]
  },
  {
   "cell_type": "code",
   "execution_count": 41,
   "id": "97ee957f",
   "metadata": {},
   "outputs": [
    {
     "name": "stdout",
     "output_type": "stream",
     "text": [
      "['Welcome', 'Python', 'Practical']\n"
     ]
    }
   ],
   "source": [
    "#17. Write a Python program to find the list of words that are longer than n from a given list of words.\n",
    "def long_words(n, str):\n",
    "    word_len = []\n",
    "    txt = str.split(\" \")\n",
    "    for x in txt:\n",
    "        if len(x) > n:\n",
    "            word_len.append(x)\n",
    "    return word_len\t\n",
    "print(long_words(5, \"Hello Tybcs Welcome to Python Practical\"))"
   ]
  },
  {
   "cell_type": "code",
   "execution_count": 42,
   "id": "7178cd91",
   "metadata": {},
   "outputs": [
    {
     "name": "stdout",
     "output_type": "stream",
     "text": [
      "Original list is : \n",
      "[('pranjal', 1), ('humera', 2), ('sakshi', 3), ('supriya', 4)]\n",
      "Modified list is : \n",
      "<map object at 0x00000126B1A014C0>\n"
     ]
    }
   ],
   "source": [
    "#18. Write a Python program to unzip a list of tuples into individual lists.\n",
    "test_list = [('pranjal', 1), ('humera', 2), ('sakshi', 3), ('supriya', 4)]\n",
    "print (\"Original list is : \"  )\n",
    "print(test_list)\n",
    "res = map(None, *test_list)\n",
    "print (\"Modified list is : \" )\n",
    "print(res)"
   ]
  },
  {
   "cell_type": "code",
   "execution_count": 43,
   "id": "bb1ff762",
   "metadata": {},
   "outputs": [
    {
     "name": "stdout",
     "output_type": "stream",
     "text": [
      "Original list is : \n",
      "[(5, 1), (4, 2), (2, 3), (7, 4)]\n",
      "Modified list is : \n",
      "<map object at 0x00000126B19F48B0>\n"
     ]
    }
   ],
   "source": [
    "# Python code to demonstrate\n",
    "# Unzip a list of tuples\n",
    "# using map()\n",
    "\n",
    "# initializing list of tuples\n",
    "test_list = [(5, 1), (4, 2), (2, 3), (7, 4)]\n",
    "\n",
    "# Printing original list\n",
    "print (\"Original list is : \")\n",
    "print(test_list)\n",
    "\n",
    "# using map() to\n",
    "# perform Unzipping\n",
    "res = map(None, *test_list)\n",
    "\t\n",
    "# Printing modified list\n",
    "print (\"Modified list is : \" )\n",
    "print(res)"
   ]
  },
  {
   "cell_type": "code",
   "execution_count": 44,
   "id": "4e01fca0",
   "metadata": {},
   "outputs": [
    {
     "name": "stdout",
     "output_type": "stream",
     "text": [
      "nohtyp\n"
     ]
    }
   ],
   "source": [
    "#19. Write a Python program to reverse a tuple.\n",
    "def Reverse(tuples):\n",
    "    new_tup = tuples[::-1]\n",
    "    return new_tup\n",
    "tuples = ('python')\n",
    "print(Reverse(tuples))"
   ]
  },
  {
   "cell_type": "code",
   "execution_count": 45,
   "id": "cd4ed32a",
   "metadata": {},
   "outputs": [
    {
     "name": "stdout",
     "output_type": "stream",
     "text": [
      "{'pranjal': [10], 'sakshi': [12], 'humera': [14]}\n"
     ]
    }
   ],
   "source": [
    "#20. Write a Python program to convert a list of tuples into a dictionary.\n",
    "def Convert(tup, di):\n",
    "    for a, b in tup:\n",
    "        di.setdefault(a, []).append(b)\n",
    "    return di\n",
    "      \n",
    "# Driver Code    \n",
    "tups = [('pranjal', 10), (\"sakshi\", 12), (\"humera\", 14)]\n",
    "dictionary = {}\n",
    "print (Convert(tups, dictionary))"
   ]
  },
  {
   "cell_type": "code",
   "execution_count": 46,
   "id": "29649a69",
   "metadata": {},
   "outputs": [
    {
     "name": "stdout",
     "output_type": "stream",
     "text": [
      "This is a tuple (100, 200, 300, 'kalpita')\n"
     ]
    }
   ],
   "source": [
    "#21. Write a Python program to print a tuple with string formatting.\n",
    "t = (100, 200, 300,'kalpita')\n",
    "print('This is a tuple {0}'.format(t))"
   ]
  },
  {
   "cell_type": "code",
   "execution_count": 47,
   "id": "2f64bc85",
   "metadata": {},
   "outputs": [
    {
     "name": "stdout",
     "output_type": "stream",
     "text": [
      "Original sets:\n",
      "{'pink', 'green', 'blue'}\n",
      "{'blue', 'purple', 'yellow', 'green'}\n",
      "\n",
      "Symmetric difference of set1 - set2:\n",
      "{'purple', 'pink', 'yellow'}\n",
      "\n",
      "Symmetric difference of set2 - set1:\n",
      "{'purple', 'pink', 'yellow'}\n"
     ]
    }
   ],
   "source": [
    "#22. Write a Python program to create a symmetric difference.\n",
    "set1 = set([\"green\", \"blue\",\"pink\"])\n",
    "set2 = set([\"blue\", \"yellow\",\"purple\",\"green\"])\n",
    "print(\"Original sets:\")\n",
    "print(set1)\n",
    "print(set2)\n",
    "r1 = set1.symmetric_difference(set2)\n",
    "print(\"\\nSymmetric difference of set1 - set2:\")\n",
    "print(r1)\n",
    "r2 = set2.symmetric_difference(set1)\n",
    "print(\"\\nSymmetric difference of set2 - set1:\")\n",
    "print(r2)"
   ]
  },
  {
   "cell_type": "code",
   "execution_count": 48,
   "id": "c487854d",
   "metadata": {},
   "outputs": [
    {
     "name": "stdout",
     "output_type": "stream",
     "text": [
      "Original sets(nums):  {1, 3, 5, 7, 9, 11} \n",
      "\n",
      "Test if 6 exists in nums:\n",
      "False\n",
      "\n",
      "Test if 7 exists in nums:\n",
      "True\n",
      "\n",
      "Test if 15 exists in nums:\n",
      "False\n"
     ]
    }
   ],
   "source": [
    "#23. Write a Python program to check if a given value is present in a set or not.\n",
    "nums = {1, 3, 5, 7, 9, 11}\n",
    "print(\"Original sets(nums): \",nums,\"\\n\")\n",
    "print(\"Test if 6 exists in nums:\")\n",
    "print(6 in nums)\n",
    "print(\"\\nTest if 7 exists in nums:\")\n",
    "print(7 in nums)\n",
    "print(\"\\nTest if 15 exists in nums:\")\n",
    "print(15 in nums)"
   ]
  },
  {
   "cell_type": "code",
   "execution_count": 49,
   "id": "d7dacf5b",
   "metadata": {},
   "outputs": [
    {
     "name": "stdout",
     "output_type": "stream",
     "text": [
      "A.issuperset(B) :  False\n",
      "B.issuperset(A) :  True\n"
     ]
    }
   ],
   "source": [
    "#24. Write a Python program to check if a given set is superset of itself and superset of another given set\n",
    "A = {4, 1, 3, 5}\n",
    "B = {6, 0, 4, 1, 5, 0, 3, 5}\n",
    "print(\"A.issuperset(B) : \", A.issuperset(B))\n",
    "print(\"B.issuperset(A) : \", B.issuperset(A))"
   ]
  },
  {
   "cell_type": "code",
   "execution_count": 50,
   "id": "c3afd4ae",
   "metadata": {},
   "outputs": [
    {
     "name": "stdout",
     "output_type": "stream",
     "text": [
      "Original sets:\n",
      "{1, 2, 3}\n",
      "{4, 5, 6}\n",
      "{3}\n",
      "Check sn1 set has no elements in common with sn2 set:\n",
      "True\n",
      "Check sn1 set has no elements in common with sn3 set:\n",
      "False\n"
     ]
    }
   ],
   "source": [
    "#25. Write a Python program to check a given set has no elements in common with other given set.\n",
    "sn1 = {1,2,3}\n",
    "sn2 = {4,5,6}\n",
    "sn3 = {3}\n",
    "print(\"Original sets:\")\n",
    "print(sn1)\n",
    "print(sn2)\n",
    "print(sn3)\n",
    "print(\"Check sn1 set has no elements in common with sn2 set:\")\n",
    "print(sn1.isdisjoint(sn2))\n",
    "print(\"Check sn1 set has no elements in common with sn3 set:\")\n",
    "print(sn1.isdisjoint(sn3))"
   ]
  },
  {
   "cell_type": "code",
   "execution_count": 51,
   "id": "e8ab4765",
   "metadata": {},
   "outputs": [
    {
     "name": "stdout",
     "output_type": "stream",
     "text": [
      "Original sets:\n",
      "{1, 2, 3, 4, 5}\n",
      "{4, 5, 6, 7, 8}\n",
      "\n",
      "Remove the intersection of a 2nd set from the 1st set using difference_update():\n",
      "sn1:  {1, 2, 3}\n",
      "sn2:  {4, 5, 6, 7, 8}\n"
     ]
    }
   ],
   "source": [
    "#26. Write a Python program to remove the intersection of a 2nd set from the 1st set.\n",
    "sn1 = {1,2,3,4,5}\n",
    "sn2 = {4,5,6,7,8}\n",
    "print(\"Original sets:\")\n",
    "print(sn1)\n",
    "print(sn2)\n",
    "print(\"\\nRemove the intersection of a 2nd set from the 1st set using difference_update():\")\n",
    "sn1.difference_update(sn2)\n",
    "print(\"sn1: \",sn1)\n",
    "print(\"sn2: \",sn2)"
   ]
  },
  {
   "cell_type": "code",
   "execution_count": 52,
   "id": "a38976da",
   "metadata": {},
   "outputs": [
    {
     "name": "stdout",
     "output_type": "stream",
     "text": [
      "The original dictionary is : \n",
      "{5: 10, 4: 10, 6: 20}\n",
      "The dictionary after values removal : \n",
      "{5: 10, 6: 20}\n"
     ]
    }
   ],
   "source": [
    "#27. Write a Python program to remove duplicates from Dictionary\n",
    "# Python3 code to demonstrate working of\n",
    "# Remove duplicate values in dictionary\n",
    "# Using loop\n",
    "\n",
    "# initializing dictionary\n",
    "test_dict = { 5 : 10, 4 : 15, 6 : 20,5:10,4:10}\n",
    "\n",
    "# printing original dictionary\n",
    "print(\"The original dictionary is : \")\n",
    "print(test_dict)\n",
    "\n",
    "# Remove duplicate values in dictionary\n",
    "# Using loop\n",
    "temp = []\n",
    "res = dict()\n",
    "for key, val in test_dict.items():\n",
    "\tif val not in temp:\n",
    "\t\ttemp.append(val)\n",
    "\t\tres[key] = val\n",
    "\n",
    "# printing result\n",
    "print(\"The dictionary after values removal : \" )\n",
    "print(res)"
   ]
  },
  {
   "cell_type": "code",
   "execution_count": 53,
   "id": "961dd6d1",
   "metadata": {},
   "outputs": [
    {
     "name": "stdout",
     "output_type": "stream",
     "text": [
      "Key is present in the dictionary\n"
     ]
    }
   ],
   "source": [
    "#28. Write a Python script to check whether a given key already exists in a dictionary\n",
    "d = {1: 10, 2: 20, 3: 30, 4: 40, 5: 50, 6: 60}\n",
    "def is_key_present(x):\n",
    "  if x in d:\n",
    "      print('Key is present in the dictionary')\n",
    "  else:\n",
    "      print('Key is not present in the dictionary')\n",
    "is_key_present(5)"
   ]
  },
  {
   "cell_type": "code",
   "execution_count": 54,
   "id": "297acb94",
   "metadata": {},
   "outputs": [
    {
     "name": "stdout",
     "output_type": "stream",
     "text": [
      "Sum : 60\n"
     ]
    }
   ],
   "source": [
    "#29. Write a Python program to sum all the items in a dictionary\n",
    "def returnSum(myDict):     \n",
    "    list = []\n",
    "    for i in myDict:\n",
    "        list.append(myDict[i])\n",
    "    final = sum(list)     \n",
    "    return final\n",
    "dict = {'a': 10, 'b':20, 'c':30}\n",
    "print(\"Sum :\", returnSum(dict))"
   ]
  },
  {
   "cell_type": "code",
   "execution_count": 55,
   "id": "08464f5c",
   "metadata": {},
   "outputs": [
    {
     "name": "stdout",
     "output_type": "stream",
     "text": [
      "36\n"
     ]
    }
   ],
   "source": [
    "#30. Write a Python program to multiply all the items in a dictionary\n",
    "d = {'a': 2,'b': 3,'c': 6,}\n",
    "answer = 1\n",
    "for i in d:\n",
    "    answer = answer*d[i]\n",
    "print(answer)"
   ]
  },
  {
   "cell_type": "code",
   "execution_count": 56,
   "id": "fa891f79",
   "metadata": {},
   "outputs": [
    {
     "name": "stdout",
     "output_type": "stream",
     "text": [
      "{'a': 1, 'b': 2, 'c': 3, 'd': 4}\n",
      "{'b': 2, 'c': 3, 'd': 4}\n"
     ]
    }
   ],
   "source": [
    "#31. Write a Python program to remove a key from a dictionary\n",
    "myDict = {'a':1,'b':2,'c':3,'d':4}\n",
    "print(myDict)\n",
    "if 'a' in myDict: \n",
    "    del myDict['a']\n",
    "print(myDict)"
   ]
  },
  {
   "cell_type": "code",
   "execution_count": null,
   "id": "87bc0650",
   "metadata": {},
   "outputs": [],
   "source": []
  }
 ],
 "metadata": {
  "kernelspec": {
   "display_name": "Python 3 (ipykernel)",
   "language": "python",
   "name": "python3"
  },
  "language_info": {
   "codemirror_mode": {
    "name": "ipython",
    "version": 3
   },
   "file_extension": ".py",
   "mimetype": "text/x-python",
   "name": "python",
   "nbconvert_exporter": "python",
   "pygments_lexer": "ipython3",
   "version": "3.9.7"
  }
 },
 "nbformat": 4,
 "nbformat_minor": 5
}
