{
 "cells": [
  {
   "cell_type": "code",
   "execution_count": 1,
   "id": "4783f344",
   "metadata": {},
   "outputs": [
    {
     "name": "stdout",
     "output_type": "stream",
     "text": [
      "Enter first side: 6\n",
      "Enter second side: 4\n",
      "Enter third side: 5\n",
      "The area of the triangle is 9.92\n"
     ]
    }
   ],
   "source": [
    "#1. Python Program to Calculate the Area of a Triangle \n",
    "a = float(input('Enter first side: '))  \n",
    "b = float(input('Enter second side: '))  \n",
    "c = float(input('Enter third side: ')) \n",
    "s = (a + b + c) / 2 \n",
    "area = (s*(s-a)*(s-b)*(s-c)) ** 0.5  \n",
    "print('The area of the triangle is %0.2f' %area)"
   ]
  },
  {
   "cell_type": "code",
   "execution_count": 3,
   "id": "fd18f94c",
   "metadata": {},
   "outputs": [
    {
     "name": "stdout",
     "output_type": "stream",
     "text": [
      "Enter value of X: 7\n",
      "Enter value of Y: 5\n",
      "Value of x: 5.0\n",
      "Value of y: 7.0\n"
     ]
    }
   ],
   "source": [
    "#2Python Program to Swap Two Variables \n",
    "x = float(input('Enter value of X: ')) \n",
    "y = float(input('Enter value of Y: ')) \n",
    "temp = x\n",
    "x = y\n",
    "y = temp\n",
    "\n",
    "print(\"Value of x:\", x)\n",
    "print(\"Value of y:\", y)"
   ]
  },
  {
   "cell_type": "code",
   "execution_count": 4,
   "id": "131ef8e5",
   "metadata": {},
   "outputs": [
    {
     "name": "stdout",
     "output_type": "stream",
     "text": [
      "42\n"
     ]
    }
   ],
   "source": [
    "#.3 Python Program to Generate a Random Number \n",
    "import random  \n",
    "n = random.randint(0,50)  \n",
    "print(n) "
   ]
  },
  {
   "cell_type": "code",
   "execution_count": 5,
   "id": "90212a53",
   "metadata": {},
   "outputs": [
    {
     "name": "stdout",
     "output_type": "stream",
     "text": [
      "Enter a number: 7\n",
      "Positive number\n"
     ]
    }
   ],
   "source": [
    "#1.Write a Python Program to Check if a Number is Positive, Negative or Zero \n",
    "num = float(input(\"Enter a number: \"))\n",
    "if num >= 0:\n",
    "   if num == 0:\n",
    "       print(\"Zero\")\n",
    "   else:\n",
    "       print(\"Positive number\")\n",
    "else:\n",
    "   print(\"Negative number\")"
   ]
  },
  {
   "cell_type": "code",
   "execution_count": 6,
   "id": "b3c7887c",
   "metadata": {},
   "outputs": [
    {
     "name": "stdout",
     "output_type": "stream",
     "text": [
      "Enter a number: 8\n",
      "8 is Even\n"
     ]
    }
   ],
   "source": [
    "#2.Write a Python Program to Check if a Number is Odd or Even \n",
    "\n",
    "num = int(input(\"Enter a number: \"))\n",
    "if (num % 2) == 0:\n",
    "   print(\"{0} is Even\".format(num))\n",
    "else:\n",
    "   print(\"{0} is Odd\".format(num))"
   ]
  },
  {
   "cell_type": "code",
   "execution_count": 7,
   "id": "905f5b4b",
   "metadata": {},
   "outputs": [
    {
     "name": "stdout",
     "output_type": "stream",
     "text": [
      "Enter a number: 4\n",
      "4 is not a prime number\n"
     ]
    }
   ],
   "source": [
    "#3.Write a Python Program to Check Prime Number \n",
    "num = int(input(\"Enter a number: \"))\n",
    "flag = False\n",
    "if num > 1:\n",
    "    for i in range(2, num):\n",
    "        if (num % i) == 0:\n",
    "            flag = True       \n",
    "            break\n",
    "if flag:\n",
    " print(num, \"is not a prime number\")\n",
    "else:\n",
    " print(num, \"is a prime number\")"
   ]
  },
  {
   "cell_type": "code",
   "execution_count": 8,
   "id": "f95b027c",
   "metadata": {},
   "outputs": [
    {
     "name": "stdout",
     "output_type": "stream",
     "text": [
      "Enter a number: 5\n",
      "5 is not an Armstrong number\n"
     ]
    }
   ],
   "source": [
    "#4.Write a Python Program to Check Armstrong Number \n",
    "num = int(input(\"Enter a number: \"))\n",
    "sum = 0\n",
    "temp = num\n",
    "while temp > 0:\n",
    "   digit = temp % 10\n",
    "   sum += digit ** 3\n",
    "   temp //= 10\n",
    "if num == sum:\n",
    "   print(num,\"is an Armstrong number\")\n",
    "else:\n",
    "   print(num,\"is not an Armstrong number\")"
   ]
  },
  {
   "cell_type": "code",
   "execution_count": 9,
   "id": "a1ba8adc",
   "metadata": {},
   "outputs": [
    {
     "name": "stdout",
     "output_type": "stream",
     "text": [
      "Enter a number: 9\n",
      "The factorial of 9 is 362880\n"
     ]
    }
   ],
   "source": [
    "#5.Write a Python Program to Find the Factorial of a Number \n",
    "num = int(input(\"Enter a number: \"))\n",
    "\n",
    "factorial = 1\n",
    "if num < 0:\n",
    "   print(\"Sorry, factorial does not exist for negative numbers\")\n",
    "elif num == 0:\n",
    "   print(\"The factorial of 0 is 1\")\n",
    "else:\n",
    "   for i in range(1,num + 1):\n",
    "       factorial = factorial*i\n",
    "   print(\"The factorial of\",num,\"is\",factorial)"
   ]
  },
  {
   "cell_type": "code",
   "execution_count": 10,
   "id": "15f1d240",
   "metadata": {},
   "outputs": [
    {
     "name": "stdout",
     "output_type": "stream",
     "text": [
      "Enter value in kilometers: 4\n",
      "4.00 kilometers is equal to 2.49 miles\n"
     ]
    }
   ],
   "source": [
    "#1. Python Program to Convert Kilometers to Miles \n",
    "kilometers = float(input(\"Enter value in kilometers: \"))\n",
    "conv_fac = 0.621371\n",
    "miles = kilometers * conv_fac\n",
    "print('%0.2f kilometers is equal to %0.2f miles' %(kilometers,miles))"
   ]
  },
  {
   "cell_type": "code",
   "execution_count": 11,
   "id": "bba446da",
   "metadata": {},
   "outputs": [
    {
     "name": "stdout",
     "output_type": "stream",
     "text": [
      "Enter value in celsius: 5\n",
      "5.0 degree Celsius is equal to 41.0 degree Fahrenheit\n"
     ]
    }
   ],
   "source": [
    "#2.Python Program to Convert Celsius To Fahrenheit \n",
    "celsius = float(input(\"Enter value in celsius: \"))\n",
    "fahrenheit = (celsius * 1.8) + 32\n",
    "print('%0.1f degree Celsius is equal to %0.1f degree Fahrenheit' %(celsius,fahrenheit))"
   ]
  },
  {
   "cell_type": "code",
   "execution_count": 12,
   "id": "13ee3a9b",
   "metadata": {},
   "outputs": [
    {
     "name": "stdout",
     "output_type": "stream",
     "text": [
      "Enter a year: 5\n",
      "5 is not a leap year\n"
     ]
    }
   ],
   "source": [
    "#3.Write a Python Program to Check Leap Year \n",
    "year = int(input(\"Enter a year: \"))\n",
    "if (year % 400 == 0) and (year % 100 == 0):\n",
    "    print(\"{0} is a leap year\".format(year))\n",
    "elif (year % 4 ==0) and (year % 100 != 0):\n",
    "    print(\"{0} is a leap year\".format(year))\n",
    "else:\n",
    "    print(\"{0} is not a leap year\".format(year))"
   ]
  },
  {
   "cell_type": "code",
   "execution_count": 14,
   "id": "0d7d5e25",
   "metadata": {},
   "outputs": [
    {
     "name": "stdout",
     "output_type": "stream",
     "text": [
      "Enter the lower number:2\n",
      "Enter the upper number: 10\n",
      "Prime numbers between 2 and 10 are:\n",
      "2\n",
      "3\n",
      "5\n",
      "7\n"
     ]
    }
   ],
   "source": [
    "#4.Write a Python Program to Print all Prime Numbers in an Interval \n",
    "lower = int(input(\"Enter the lower number:\"))\n",
    "upper = int(input(\"Enter the upper number: \"))\n",
    "print(\"Prime numbers between\", lower, \"and\", upper, \"are:\")\n",
    "for num in range(lower, upper + 1):\n",
    "     if num > 1:\n",
    "       for i in range(2, num):\n",
    "           if (num % i) == 0:\n",
    "               break\n",
    "       else:\n",
    "           print(num)"
   ]
  },
  {
   "cell_type": "code",
   "execution_count": 15,
   "id": "02091411",
   "metadata": {},
   "outputs": [
    {
     "name": "stdout",
     "output_type": "stream",
     "text": [
      "How many terms the user wants to print? 5\n",
      "The fibonacci sequence of the numbers is:\n",
      "0\n",
      "1\n",
      "1\n",
      "2\n",
      "3\n"
     ]
    }
   ],
   "source": [
    "#5.Write a Python Program to Print the Fibonacci sequence \n",
    "n_terms = int(input (\"How many terms the user wants to print? \"))  \n",
    "n_1 = 0  \n",
    "n_2 = 1  \n",
    "count = 0  \n",
    "if n_terms <= 0:  \n",
    "    print (\"Please enter a positive integer, the given number is not valid\")  \n",
    "elif n_terms == 1:  \n",
    "    print (\"The Fibonacci sequence of the numbers up to\", n_terms, \": \")  \n",
    "    print(n_1)  \n",
    "else:  \n",
    "    print (\"The fibonacci sequence of the numbers is:\")  \n",
    "    while count < n_terms:  \n",
    "        print(n_1)  \n",
    "        nth = n_1 + n_2  \n",
    "        n_1 = n_2  \n",
    "        n_2 = nth  \n",
    "        count += 1  "
   ]
  },
  {
   "cell_type": "code",
   "execution_count": 16,
   "id": "c9f4c742",
   "metadata": {},
   "outputs": [
    {
     "name": "stdout",
     "output_type": "stream",
     "text": [
      "Enter the lower number:2\n",
      "Enter the upper number:8\n",
      "2\n",
      "3\n",
      "4\n",
      "5\n",
      "6\n",
      "7\n",
      "8\n"
     ]
    }
   ],
   "source": [
    "#6.Write a Python Program to Find Armstrong Number in an Interval \n",
    "lower = int(input(\"Enter the lower number:\"))\n",
    "upper = int(input(\"Enter the upper number:\"))\n",
    "\n",
    "for num in range(lower, upper + 1):\n",
    "\n",
    "   # order of number\n",
    "   order = len(str(num))\n",
    "    \n",
    "   # initialize sum\n",
    "   sum = 0\n",
    "\n",
    "   temp = num\n",
    "   while temp > 0:\n",
    "       digit = temp % 10\n",
    "       sum += digit ** order\n",
    "       temp //= 10\n",
    "\n",
    "   if num == sum:\n",
    "       print(num)"
   ]
  },
  {
   "cell_type": "code",
   "execution_count": 17,
   "id": "9a964932",
   "metadata": {},
   "outputs": [
    {
     "name": "stdout",
     "output_type": "stream",
     "text": [
      "Enter the number:5\n",
      "The sum is 15\n"
     ]
    }
   ],
   "source": [
    "#7.Write a Python Program to Find the Sum of Natural Numbers \n",
    "num = int(input(\"Enter the number:\"))\n",
    "\n",
    "if num < 0:\n",
    "   print(\"Enter a positive number\")\n",
    "else:\n",
    "   sum = 0\n",
    "   # use while loop to iterate until zero\n",
    "   while(num > 0):\n",
    "       sum += num\n",
    "       num -= 1\n",
    "   print(\"The sum is\", sum)"
   ]
  },
  {
   "cell_type": "code",
   "execution_count": null,
   "id": "29646669",
   "metadata": {},
   "outputs": [],
   "source": []
  }
 ],
 "metadata": {
  "kernelspec": {
   "display_name": "Python 3 (ipykernel)",
   "language": "python",
   "name": "python3"
  },
  "language_info": {
   "codemirror_mode": {
    "name": "ipython",
    "version": 3
   },
   "file_extension": ".py",
   "mimetype": "text/x-python",
   "name": "python",
   "nbconvert_exporter": "python",
   "pygments_lexer": "ipython3",
   "version": "3.9.7"
  }
 },
 "nbformat": 4,
 "nbformat_minor": 5
}
