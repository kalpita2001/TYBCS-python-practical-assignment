{
 "cells": [
  {
   "cell_type": "code",
   "execution_count": 1,
   "id": "1fd53c77",
   "metadata": {},
   "outputs": [
    {
     "name": "stdout",
     "output_type": "stream",
     "text": [
      "Zero Division Error\n",
      "Overflow Error\n"
     ]
    }
   ],
   "source": [
    "#1. Write a Python program to demonstrate the zero division error and overflow error\n",
    "import math\n",
    "data = 50\n",
    "try:\n",
    "    data = data / 0  # data = data / 5\n",
    "except ZeroDivisionError:\n",
    "    print(\"Zero Division Error\")\n",
    "else:\n",
    "    print(\"Division successful :\", data) #Division successful : 10\n",
    "try:\n",
    "    a = math.exp(1000) #math.exp(2)\n",
    "    print(a) #7.38905609893065\n",
    "   \n",
    "except OverflowError:\n",
    "    print(\"Overflow Error\")"
   ]
  },
  {
   "cell_type": "code",
   "execution_count": 2,
   "id": "8aeaa1c5",
   "metadata": {},
   "outputs": [
    {
     "name": "stdout",
     "output_type": "stream",
     "text": [
      "Enter Text :hello\n",
      "No\n"
     ]
    }
   ],
   "source": [
    "#2. Write a Python program to find sequences of lowercase letters joined with a underscore\n",
    "import re\n",
    "def match(text):\n",
    "        pattern = '[a-z]+_[a-z]+$'\n",
    "        if re.search(pattern, text):\n",
    "                return('Yes')\n",
    "        else:\n",
    "                return('No')\n",
    "print(match(input(\"Enter Text :\")))"
   ]
  },
  {
   "cell_type": "code",
   "execution_count": 3,
   "id": "0b4c798e",
   "metadata": {},
   "outputs": [
    {
     "name": "stdout",
     "output_type": "stream",
     "text": [
      "Valid String\n",
      "Invalid String\n"
     ]
    }
   ],
   "source": [
    "#3. Write a python program to Check if String Contain Only Defined Characters using Regex\n",
    "import re\n",
    "def check(str, pattern):\n",
    "\t\n",
    "\tif re.search(pattern, str):\n",
    "\t\tprint(\"Valid String\")\n",
    "\telse:\n",
    "\t\tprint(\"Invalid String\")\n",
    "\n",
    "pattern = re.compile('^[179]+$')\n",
    "check('179', pattern)\n",
    "check('157', pattern)"
   ]
  },
  {
   "cell_type": "code",
   "execution_count": 4,
   "id": "fdeda98a",
   "metadata": {},
   "outputs": [
    {
     "name": "stdout",
     "output_type": "stream",
     "text": [
      "Not matched!\n",
      "Found a match!\n"
     ]
    }
   ],
   "source": [
    "#1. Write a Python program to match a string that contains only upper and lowercase letters,\n",
    "#numbers, and underscores.Write a Python program to raised the attribute error, if attribute\n",
    "#class object has no attribute with the name attribute.\n",
    "import re\n",
    "def text_match(text):\n",
    "        patterns = '^[a-zA-Z0-9_]*$'\n",
    "        if re.search(patterns,  text):\n",
    "                return 'Found a match!'\n",
    "        else:\n",
    "                return('Not matched!')\n",
    "\n",
    "print(text_match(\"The quick brown fox jumps over the lazy dog.\"))\n",
    "print(text_match(\"Python_is_1_Programming_language\"))"
   ]
  },
  {
   "cell_type": "code",
   "execution_count": 5,
   "id": "e5f16566",
   "metadata": {},
   "outputs": [
    {
     "name": "stdout",
     "output_type": "stream",
     "text": [
      "Python is good for beginners\n"
     ]
    }
   ],
   "source": [
    "#2. Write a python Program to Remove duplicate words from Sentence\n",
    "string = \"Python is good Python is for beginners beginners\"\n",
    " \n",
    "print(' '.join(dict.fromkeys(string.split())))"
   ]
  },
  {
   "cell_type": "code",
   "execution_count": 6,
   "id": "29bc4ab0",
   "metadata": {},
   "outputs": [
    {
     "name": "stdout",
     "output_type": "stream",
     "text": [
      "The string is : \n",
      "python123:, .@! abc\n",
      "The String after Removal is :\n",
      "python123abc\n"
     ]
    }
   ],
   "source": [
    "#3. Write a python to| Remove all characters except letters and numbers\n",
    "import re \n",
    "my_string = \"python123:, .@! abc\" \n",
    "print (\"The string is : \") \n",
    "print(my_string) \n",
    "result = re.sub('[\\W_]+', '', my_string) \n",
    "print (\"The String after Removal is :\") \n",
    "print(result)"
   ]
  },
  {
   "cell_type": "code",
   "execution_count": 7,
   "id": "572f975b",
   "metadata": {},
   "outputs": [
    {
     "name": "stdout",
     "output_type": "stream",
     "text": [
      "Upper case letters: 4\n",
      "Lower case letters: 13\n",
      "Number: 4\n",
      "Special characters: 5\n"
     ]
    }
   ],
   "source": [
    "#1. Write a python program to Count Uppercase, Lowercase, special character and numeric values using Regex\n",
    "def Count(str):\n",
    "    upper, lower, number, special = 0, 0, 0, 0\n",
    "    for i in range(len(str)):\n",
    "        if str[i].isupper():\n",
    "            upper += 1\n",
    "        elif str[i].islower():\n",
    "            lower += 1\n",
    "        elif str[i].isdigit():\n",
    "            number += 1\n",
    "        else:\n",
    "            special += 1\n",
    "    print('Upper case letters:', upper)\n",
    "    print('Lower case letters:', lower)\n",
    "    print('Number:', number)\n",
    "    print('Special characters:', special)\n",
    "str = \"@@helloTybcs1904WELcome###\"\n",
    "Count(str)"
   ]
  },
  {
   "cell_type": "code",
   "execution_count": 8,
   "id": "b353ee47",
   "metadata": {},
   "outputs": [
    {
     "name": "stdout",
     "output_type": "stream",
     "text": [
      "58\n"
     ]
    }
   ],
   "source": [
    "#2. Write a python program to find the most occurring number in a string using Regex\n",
    "import re\n",
    "from collections import Counter\n",
    "def most_occr_element(word):\n",
    "    arr = re.findall(r'[0-9]+', word)\n",
    "    maxm = 0\n",
    "    max_elem = 0\n",
    "    c = Counter(arr)\n",
    "    for x in list(c.keys()):\n",
    "        if c[x]>= maxm:\n",
    "            maxm = c[x]\n",
    "            max_elem = int(x)\n",
    "    return max_elem\n",
    "if __name__ == \"__main__\":\n",
    "    word = 'abc58abc52abd12abcdefg12ab58ac58'\n",
    "    print(most_occr_element(word))"
   ]
  },
  {
   "cell_type": "code",
   "execution_count": 9,
   "id": "697441da",
   "metadata": {},
   "outputs": [
    {
     "name": "stdout",
     "output_type": "stream",
     "text": [
      "100005\n"
     ]
    }
   ],
   "source": [
    "#3. Write a python Regex to extract maximum numeric value from a string\n",
    "def extractMaximum(ss):\n",
    "    num, res = 0, 0\n",
    "    for i in range(len(ss)):\n",
    "        if ss[i] >= \"0\" and ss[i] <= \"9\":\n",
    "            num = num * 10 + int(int(ss[i]) - 0)\n",
    "        else:\n",
    "            res = max(res, num)\n",
    "            num = 0\n",
    "    return max(res, num)\n",
    "ss = \"100klh564abc365bg100005abcd\"\n",
    "print(extractMaximum(ss))"
   ]
  },
  {
   "cell_type": "code",
   "execution_count": 10,
   "id": "a3941e7b",
   "metadata": {},
   "outputs": [
    {
     "name": "stdout",
     "output_type": "stream",
     "text": [
      "Python\n",
      "Python Practical\n",
      "Python Tybcs Practice Solution\n"
     ]
    }
   ],
   "source": [
    "#4. Write a python program to put spaces between words starting with capital letters using Regex\n",
    "import re\n",
    "def capital_words_spaces(str1):\n",
    "  return re.sub(r\"(\\w)([A-Z])\", r\"\\1 \\2\", str1)\n",
    "print(capital_words_spaces(\"Python\"))\n",
    "print(capital_words_spaces(\"PythonPractical\"))\n",
    "print(capital_words_spaces(\"PythonTybcsPracticeSolution\"))"
   ]
  },
  {
   "cell_type": "code",
   "execution_count": 11,
   "id": "ae8694af",
   "metadata": {},
   "outputs": [
    {
     "name": "stdout",
     "output_type": "stream",
     "text": [
      "Valid\n",
      "Valid\n",
      "Invalid\n"
     ]
    }
   ],
   "source": [
    "#5. Write a python to Check whether a string starts and ends with the same character or not\n",
    "import re\n",
    "regex = r'^[a-z]$|^([a-z]).*\\1$'\n",
    "def check(string):\n",
    "    if(re.search(regex, string)):\n",
    "        print(\"Valid\")\n",
    "    else:\n",
    "        print(\"Invalid\")\n",
    "if __name__ == '__main__' :\n",
    "    sample1 = \"abca\"\n",
    "    sample2 = \"pythonp\"\n",
    "    sample3 = \"abc\"\n",
    "\n",
    "    check(sample1)\n",
    "    check(sample2)\n",
    "    check(sample3)"
   ]
  },
  {
   "cell_type": "code",
   "execution_count": 12,
   "id": "a62b8029",
   "metadata": {},
   "outputs": [
    {
     "name": "stdout",
     "output_type": "stream",
     "text": [
      "Yes\n",
      "Yes\n",
      "No\n"
     ]
    }
   ],
   "source": [
    "#6. Write a python regex to find sequences of one upper case letter followed by lower case letters\n",
    "import re\n",
    "def match(text):\n",
    "        pattern = '[A-Z]+[a-z]+$'\n",
    "        if re.search(pattern, text):\n",
    "                return('Yes')\n",
    "        else:\n",
    "                return('No')\n",
    "print(match(\"Python\"))\n",
    "print(match(\"Pythonpractical\"))\n",
    "print(match(\"python\"))"
   ]
  },
  {
   "cell_type": "code",
   "execution_count": 13,
   "id": "c47760f9",
   "metadata": {},
   "outputs": [
    {
     "name": "stdout",
     "output_type": "stream",
     "text": [
      "Discard\n",
      "Accept\n",
      "Discard\n",
      "Accept\n"
     ]
    }
   ],
   "source": [
    "#7. Write a python Regex program to accept string ending with alphanumeric character\n",
    "import re\n",
    "regex = '[a-zA-z0-9]$'\n",
    "def check(string):\n",
    "    if(re.search(regex, string)):\n",
    "        print(\"Accept\")\n",
    "    else:\n",
    "        print(\"Discard\")\n",
    "if __name__ == '__main__' :\n",
    "    string = \"pranjal@\"\n",
    "    check(string)\n",
    "    string = \"pranjal326\"\n",
    "    check(string)\n",
    "    string = \"pranjal.\"\n",
    "    check(string)\n",
    "    string = \"pranjalDEO\"\n",
    "    check(string)"
   ]
  },
  {
   "cell_type": "code",
   "execution_count": 14,
   "id": "fb1e1301",
   "metadata": {},
   "outputs": [
    {
     "name": "stdout",
     "output_type": "stream",
     "text": [
      "The original list is : \n",
      "['red', 'is', 'dark', 'color', 'and', 'in', 'signal', 'it', 'stops', 'vechicals']\n",
      "The extracted words : \n",
      "['is', 'and', 'in', 'it']\n"
     ]
    }
   ],
   "source": [
    "#8. Write a python Regex program to accept string starting with vowel\n",
    "# initializing list\n",
    "test_list = [\"red\",\"is\",\"dark\",\"color\",\"and\",\"in\",\"signal\",\"it\",\"stops\",\"vechicals\"]\n",
    "print(\"The original list is : \" )\n",
    "print(test_list)\n",
    "res = []\n",
    "vow = \"aeiou\"\n",
    "for sub in test_list:\n",
    "    flag = False\n",
    "    for ele in vow:\n",
    "        if sub.startswith(ele):\n",
    "            flag = True\n",
    "            break\n",
    "    if flag:\n",
    "        res.append(sub)\n",
    "print(\"The extracted words : \" )\n",
    "print(res)"
   ]
  },
  {
   "cell_type": "code",
   "execution_count": 15,
   "id": "3a051f8b",
   "metadata": {},
   "outputs": [
    {
     "name": "stdout",
     "output_type": "stream",
     "text": [
      "The string is :\n",
      "Python coding is fun to learn\n",
      "The sub-string is :\n",
      "Python\n",
      "The string starts with the given substring\n"
     ]
    }
   ],
   "source": [
    "#9. Write a python Program to check if a string starts with a substring using regex\n",
    "import re\n",
    "def check_string(my_string, sub_string) :\n",
    "   if (sub_string in my_string):\n",
    "      concat_string = \"^\" + sub_string\n",
    "      result = re.search(concat_string, my_string)\n",
    "      if result :\n",
    "         print(\"The string starts with the given substring\")\n",
    "      else :\n",
    "         print(\"The string doesnot start with the given substring\")\n",
    "   else :\n",
    "      print(\"It is not a substring\")\n",
    "my_string = \"Python coding is fun to learn\"\n",
    "sub_string = \"Python\"\n",
    "print(\"The string is :\")\n",
    "print(my_string)\n",
    "print(\"The sub-string is :\")\n",
    "print(sub_string)\n",
    "check_string(my_string, sub_string)"
   ]
  },
  {
   "cell_type": "code",
   "execution_count": 16,
   "id": "0e22d4a8",
   "metadata": {},
   "outputs": [
    {
     "name": "stdout",
     "output_type": "stream",
     "text": [
      "No\n"
     ]
    }
   ],
   "source": [
    "#10. Write a python Program to Check if an URL is valid or not using Regular Expression\n",
    "import re\n",
    "def isValidURL(str):\n",
    "    regex = (\"((http|https)://)(www.)?\" +\n",
    "            \"[a-zA-Z0-9@:%._\\\\+~#?&//=]\" +\n",
    "            \"{2,256}\\\\.[a-z]\" +\n",
    "            \"{2,6}\\\\b([-a-zA-Z0-9@:%\" +\n",
    "            \"._\\\\+~?&//=]*)\")\n",
    "    p = re.compile(regex)\n",
    "    if (str == None):\n",
    "        return False\n",
    "    if(re.search(p, str)):\n",
    "        return True\n",
    "    else:\n",
    "        return False\n",
    "url = \"@htts://www.pranjaldeo@.org#\"\n",
    "if(isValidURL(url) == True):\n",
    "    print(\"Yes\")\n",
    "else:\n",
    "    print(\"No\")"
   ]
  },
  {
   "cell_type": "code",
   "execution_count": 17,
   "id": "766e59cd",
   "metadata": {},
   "outputs": [
    {
     "name": "stdout",
     "output_type": "stream",
     "text": [
      "['https']\n",
      "['pranjaldeo.org']\n"
     ]
    }
   ],
   "source": [
    "#11. Write a python Program to Parsing and Processing URL using Python – Regex\n",
    "import re\n",
    "s = 'https://www.pranjaldeo.org/'\n",
    "obj1 = re.findall('(\\w+)://',s)\n",
    "print(obj1)\n",
    "obj2 = re.findall('://www.([\\w\\-\\.]+)',s)\n",
    "print(obj2)"
   ]
  },
  {
   "cell_type": "code",
   "execution_count": 18,
   "id": "63589b16",
   "metadata": {},
   "outputs": [
    {
     "name": "stdout",
     "output_type": "stream",
     "text": [
      "Valid Ip address\n",
      "Valid Ip address\n",
      "Invalid Ip address\n"
     ]
    }
   ],
   "source": [
    "#12. Write a python Program to validate an IP address using ReGex\n",
    "import re\n",
    "regex = \"^((25[0-5]|2[0-4][0-9]|1[0-9][0-9]|[1-9]?[0-9])\\.){3}(25[0-5]|2[0-4][0-9]|1[0-9][0-9]|[1-9]?[0-9])$\"\n",
    "def check(Ip):\n",
    "    if(re.search(regex, Ip)):\n",
    "        print(\"Valid Ip address\")\n",
    "    else:\n",
    "        print(\"Invalid Ip address\")\n",
    "if __name__ == '__main__' :\n",
    "    Ip = \"192.168.0.1\"\n",
    "    check(Ip)\n",
    "    Ip = \"110.234.52.124\"\n",
    "    check(Ip)\n",
    "    Ip = \"366.1.2.2\"\n",
    "    check(Ip)"
   ]
  },
  {
   "cell_type": "code",
   "execution_count": 19,
   "id": "40335475",
   "metadata": {},
   "outputs": [
    {
     "name": "stdout",
     "output_type": "stream",
     "text": [
      "This is not a valid email address\n"
     ]
    }
   ],
   "source": [
    "#13. Write a python Program to Check if email address valid or not\n",
    "import re\n",
    "def isValid(email):\n",
    " if(re.match(\"^[a-zA-Z0-9_+&*-]+(?:\\\\.[a-zA-Z0-9_+&*-]+)*@(?:[a-zA-Z0-9-]+\\\\.)+[a-zA-Z]{2,7}$\", email) != None):\n",
    "     return True\n",
    " return False\n",
    "if(isValid(\"hello#gmail.com\") == True):\n",
    " print(\"This is a valid email address\")\n",
    "else:\n",
    " print(\"This is not a valid email address\")\n",
    " "
   ]
  },
  {
   "cell_type": "code",
   "execution_count": 20,
   "id": "abd33822",
   "metadata": {},
   "outputs": [
    {
     "name": "stdout",
     "output_type": "stream",
     "text": [
      "The file ending with .xml is: hello.xml\n"
     ]
    }
   ],
   "source": [
    "#14. Write a python program to find files having a particular extension using RegEx\n",
    "import re\n",
    "filenames = [\"gfg.html\", \"hello.xml\",\n",
    "            \"computer.txt\", \"welcome.jpg\"]\n",
    "for file in filenames:\n",
    "    match = re.search(\"\\.xml$\", file)\n",
    "    if match:\n",
    "        print(\"The file ending with .xml is:\",file)"
   ]
  },
  {
   "cell_type": "code",
   "execution_count": 22,
   "id": "50aefc09",
   "metadata": {},
   "outputs": [
    {
     "name": "stdout",
     "output_type": "stream",
     "text": [
      "Not a Valid Password\n"
     ]
    }
   ],
   "source": [
    "#16. Write a python program to check the validity of a Password\n",
    "import re\n",
    "password = \"pranjal-deo$\"\n",
    "flag = 0\n",
    "while True:\n",
    "    if (len(password)<8):\n",
    "        flag = -1\n",
    "        break\n",
    "    elif not re.search(\"[a-z]\", password):\n",
    "        flag = -1\n",
    "        break\n",
    "    elif not re.search(\"[A-Z]\", password):\n",
    "        flag = -1\n",
    "        break\n",
    "    elif not re.search(\"[0-9]\", password):\n",
    "        flag = -1\n",
    "        break\n",
    "    elif not re.search(\"[_@$]\", password):\n",
    "        flag = -1\n",
    "        break\n",
    "    elif re.search(\"\\s\", password):\n",
    "        flag = -1\n",
    "        break\n",
    "    else:\n",
    "        flag = 0\n",
    "        print(\"Valid Password\")\n",
    "        break\n",
    "if flag ==-1:\n",
    "    print(\"Not a Valid Password\")\n",
    "\n",
    "    "
   ]
  },
  {
   "cell_type": "code",
   "execution_count": null,
   "id": "d160be67",
   "metadata": {},
   "outputs": [],
   "source": []
  }
 ],
 "metadata": {
  "kernelspec": {
   "display_name": "Python 3 (ipykernel)",
   "language": "python",
   "name": "python3"
  },
  "language_info": {
   "codemirror_mode": {
    "name": "ipython",
    "version": 3
   },
   "file_extension": ".py",
   "mimetype": "text/x-python",
   "name": "python",
   "nbconvert_exporter": "python",
   "pygments_lexer": "ipython3",
   "version": "3.9.7"
  }
 },
 "nbformat": 4,
 "nbformat_minor": 5
}
