{
 "cells": [
  {
   "cell_type": "code",
   "execution_count": 2,
   "id": "6e9827c3",
   "metadata": {},
   "outputs": [
    {
     "name": "stdout",
     "output_type": "stream",
     "text": [
      "done\n"
     ]
    }
   ],
   "source": [
    "#2. Write a Python program to print each line of a file in reverse order.\n",
    "f1 = open(\"sample.txt\", \"w\")\n",
    "\n",
    "with open(\"sample.txt\", \"r\") as myfile:\n",
    "\tdata = myfile.read()\n",
    "data_1 = data[::-1]\n",
    "f1.write(data_1)\n",
    "f1.close()\n",
    "print(\"done\")"
   ]
  },
  {
   "cell_type": "code",
   "execution_count": 3,
   "id": "a1469d3b",
   "metadata": {},
   "outputs": [
    {
     "name": "stdout",
     "output_type": "stream",
     "text": [
      "Current date and time : \n",
      "28-02-2022 19:08:09\n"
     ]
    }
   ],
   "source": [
    "#3. Write a Python program to print date, time for today and now\n",
    "import datetime\n",
    "\n",
    "now = datetime.datetime.now()\n",
    "print(\"Current date and time : \")\n",
    "print(now.strftime(\"%d-%m-%Y %H:%M:%S\"))"
   ]
  },
  {
   "cell_type": "code",
   "execution_count": 5,
   "id": "2fac6588",
   "metadata": {},
   "outputs": [
    {
     "name": "stdout",
     "output_type": "stream",
     "text": [
      "\n",
      " welcome to python practical\n",
      " welcome to python practical\n"
     ]
    }
   ],
   "source": [
    "#1. Write a Python program to append text to a file and display the text.\n",
    "testfile = open(\"sample.txt\", \"a\")\n",
    "\n",
    "testfile.write(\"\\n welcome to python practical\")\n",
    "testfile.close()\n",
    "\n",
    "appended_file = open(\"sample.txt\", \"r\")\n",
    "print(appended_file.read())"
   ]
  },
  {
   "cell_type": "code",
   "execution_count": 6,
   "id": "749db52b",
   "metadata": {},
   "outputs": [
    {
     "name": "stdout",
     "output_type": "stream",
     "text": [
      "Mon Feb 28 19:09:44 India Standard Time 2022\n"
     ]
    }
   ],
   "source": [
    "#3. Write a Python script to print the current date in following format “Sun May 29 02:26:23\n",
    "#IST 2017”\n",
    "import time\n",
    "ltime = time.localtime()\n",
    "print(time.strftime(\"%a %b %d %H:%M:%S %Z %Y\", ltime))"
   ]
  },
  {
   "cell_type": "code",
   "execution_count": 7,
   "id": "48a20d88",
   "metadata": {},
   "outputs": [
    {
     "name": "stdout",
     "output_type": "stream",
     "text": [
      "lines: 3 words: 8 char: 56\n"
     ]
    }
   ],
   "source": [
    "#2. Write a Python program to compute the number of characters, words and lines in a file.\n",
    "file = open(\"sample.txt\",\"r\")\n",
    "\n",
    "no_of_lines = 0\n",
    "no_of_words = 0\n",
    "no_of_char = 0\n",
    "\n",
    "for line in file:\n",
    "    line = line.strip(\"\\n\")   \n",
    "    words = line.split()\n",
    "\n",
    "    no_of_lines += 1\n",
    "    no_of_words += len(words)\n",
    "    no_of_char += len(line)\n",
    "\n",
    "file.close()\n",
    "print(\"lines:\", no_of_lines, \"words:\", no_of_words, \"char:\", no_of_char)"
   ]
  },
  {
   "cell_type": "code",
   "execution_count": 8,
   "id": "eebb021f",
   "metadata": {},
   "outputs": [
    {
     "name": "stdout",
     "output_type": "stream",
     "text": [
      "\n",
      " welcome to python practical\n",
      " welcome to python practical\n"
     ]
    }
   ],
   "source": [
    "#1. Write a Python program to read an entire text file.\n",
    "def file_read(sample):\n",
    "    txt = open(sample)\n",
    "    print(txt.read())\n",
    "\n",
    "file_read(\"sample.txt\")"
   ]
  },
  {
   "cell_type": "code",
   "execution_count": 11,
   "id": "ee90d938",
   "metadata": {},
   "outputs": [
    {
     "name": "stdout",
     "output_type": "stream",
     "text": [
      "Python practical\n",
      "Assignment 4\n"
     ]
    }
   ],
   "source": [
    "#3. Write a Python program to append text to a file and display the text.\n",
    "def file_read(fname):\n",
    "        from itertools import islice\n",
    "        with open(fname, \"w\") as myfile:\n",
    "                myfile.write(\"Python practical\\n\")\n",
    "                myfile.write(\"Assignment 4\")\n",
    "        txt = open(fname)\n",
    "        print(txt.read())\n",
    "file_read('sample1.txt')"
   ]
  },
  {
   "cell_type": "code",
   "execution_count": 12,
   "id": "616af2e2",
   "metadata": {},
   "outputs": [
    {
     "name": "stdout",
     "output_type": "stream",
     "text": [
      "Python practical\n",
      "Assignment 4"
     ]
    }
   ],
   "source": [
    "#4. Write a Python program to read last n lines of a file.\n",
    "def LastNlines(fname, N):\n",
    "    with open(fname) as file:\n",
    "        for line in (file.readlines() [-N:]):\n",
    "            print(line, end ='')\n",
    "if __name__ == '__main__':\n",
    "    fname = 'sample1.txt'\n",
    "    N = 3\n",
    "    try:\n",
    "        LastNlines(fname, N)\n",
    "    except:\n",
    "        print('File not found')"
   ]
  },
  {
   "cell_type": "code",
   "execution_count": 13,
   "id": "1f300679",
   "metadata": {},
   "outputs": [
    {
     "name": "stdout",
     "output_type": "stream",
     "text": [
      "['Python practical\\n', 'Assignment 4']\n"
     ]
    }
   ],
   "source": [
    "#5. Write a Python program to read a file line by line and store it into a list.\n",
    "def file_read(fname):\n",
    "        with open(fname) as f:\n",
    "                content_list = f.readlines()\n",
    "                print(content_list)\n",
    "\n",
    "file_read('sample1.txt')"
   ]
  },
  {
   "cell_type": "code",
   "execution_count": 14,
   "id": "724faa20",
   "metadata": {},
   "outputs": [
    {
     "name": "stdout",
     "output_type": "stream",
     "text": [
      "['Python practical\\n', 'Assignment 4']\n"
     ]
    }
   ],
   "source": [
    "#6. Write a Python program to read a file line by line store it into a variable.\n",
    "def file_read(fname):\n",
    "        with open (fname, \"r\") as myfile:\n",
    "                data=myfile.readlines()\n",
    "                print(data)\n",
    "file_read('sample1.txt')"
   ]
  },
  {
   "cell_type": "code",
   "execution_count": 15,
   "id": "234f6902",
   "metadata": {},
   "outputs": [
    {
     "name": "stdout",
     "output_type": "stream",
     "text": [
      "['Python practical\\n', 'Assignment 4']\n"
     ]
    }
   ],
   "source": [
    "#7. Write a Python program to read a file line by line store it into an array.\n",
    "def file_read(fname):\n",
    "        content_array = []\n",
    "        with open(fname) as f:\n",
    "                for line in f:\n",
    "                        content_array.append(line)\n",
    "                print(content_array)\n",
    "\n",
    "file_read('sample1.txt')"
   ]
  },
  {
   "cell_type": "code",
   "execution_count": 16,
   "id": "d4eb8fb1",
   "metadata": {},
   "outputs": [
    {
     "name": "stdout",
     "output_type": "stream",
     "text": [
      "['Assignment']\n"
     ]
    }
   ],
   "source": [
    "#8. Write a python program to find the longest words.\n",
    "def longest_word(filename):\n",
    "    with open(filename, 'r') as infile:\n",
    "              words = infile.read().split()\n",
    "    max_len = len(max(words, key=len))\n",
    "    return [word for word in words if len(word) == max_len]\n",
    "\n",
    "print(longest_word('sample1.txt'))"
   ]
  },
  {
   "cell_type": "code",
   "execution_count": 17,
   "id": "db5800ec",
   "metadata": {},
   "outputs": [
    {
     "name": "stdout",
     "output_type": "stream",
     "text": [
      "Number of lines in the file:  2\n"
     ]
    }
   ],
   "source": [
    "#9. Write a Python program to count the number of lines in a text file.\n",
    "def file_lengthy(fname):\n",
    "        with open(fname) as f:\n",
    "                for i, l in enumerate(f):\n",
    "                        pass\n",
    "        return i + 1\n",
    "print(\"Number of lines in the file: \",file_lengthy(\"sample1.txt\"))"
   ]
  },
  {
   "cell_type": "code",
   "execution_count": 18,
   "id": "37ab73f5",
   "metadata": {},
   "outputs": [
    {
     "name": "stdout",
     "output_type": "stream",
     "text": [
      "Number of words in the file : Counter({'Python': 1, 'practical': 1, 'Assignment': 1, '4': 1})\n"
     ]
    }
   ],
   "source": [
    "#10. Write a Python program to count the frequency of words in a file.\n",
    "from collections import Counter\n",
    "def word_count(fname):\n",
    "        with open(fname) as f:\n",
    "                return Counter(f.read().split())\n",
    "\n",
    "print(\"Number of words in the file :\",word_count(\"sample1.txt\"))"
   ]
  },
  {
   "cell_type": "code",
   "execution_count": 19,
   "id": "a23213ff",
   "metadata": {},
   "outputs": [
    {
     "name": "stdout",
     "output_type": "stream",
     "text": [
      "File size in bytes of a plain file:  30\n"
     ]
    }
   ],
   "source": [
    "#11. Write a Python program to get the file size of a plain file.\n",
    "def file_size(fname):\n",
    "        import os\n",
    "        statinfo = os.stat(fname)\n",
    "        return statinfo.st_size\n",
    "\n",
    "print(\"File size in bytes of a plain file: \",file_size(\"sample1.txt\"))"
   ]
  },
  {
   "cell_type": "code",
   "execution_count": 20,
   "id": "82e27db4",
   "metadata": {},
   "outputs": [
    {
     "name": "stdout",
     "output_type": "stream",
     "text": [
      "Red\n",
      "Green\n",
      "White\n",
      "Black\n",
      "Pink\n",
      "Yellow\n",
      "\n"
     ]
    }
   ],
   "source": [
    "#12. Write a Python program to write a list to a file.\n",
    "color = ['Red', 'Green', 'White', 'Black', 'Pink', 'Yellow']\n",
    "with open('abc.txt', \"w\") as myfile:\n",
    "        for c in color:\n",
    "                myfile.write(\"%s\\n\" % c)\n",
    "\n",
    "content = open('abc.txt')\n",
    "print(content.read())"
   ]
  },
  {
   "cell_type": "code",
   "execution_count": 21,
   "id": "3f53e4cb",
   "metadata": {},
   "outputs": [
    {
     "name": "stdout",
     "output_type": "stream",
     "text": [
      "Red\n",
      "Green\n",
      "White\n",
      "Black\n",
      "Pink\n",
      "Yellow\n",
      "Blue\n",
      "\n"
     ]
    }
   ],
   "source": [
    "#13. Write a Python program to copy the contents of a file to another file .\n",
    "color = ['Red', 'Green', 'White', 'Black', 'Pink', 'Yellow','Blue']\n",
    "with open('abc.txt', \"w\") as myfile:\n",
    "        for c in color:\n",
    "                myfile.write(\"%s\\n\" % c)\n",
    "\n",
    "content = open('abc.txt')\n",
    "print(content.read())"
   ]
  },
  {
   "cell_type": "code",
   "execution_count": 22,
   "id": "0150e661",
   "metadata": {},
   "outputs": [
    {
     "name": "stdout",
     "output_type": "stream",
     "text": [
      "Red\n",
      "Python practical\n",
      "\n",
      "Green\n",
      "Assignment 4\n"
     ]
    }
   ],
   "source": [
    "#14. Write a Python program to combine each line from first file with the corresponding line in second file\n",
    "with open('abc.txt') as fh1, open('sample1.txt') as fh2:\n",
    "    for line1, line2 in zip(fh1, fh2):\n",
    "        # line1 from abc.txt, line2 from test.txtg\n",
    "        print(line1+line2)\n",
    "\t\t"
   ]
  },
  {
   "cell_type": "code",
   "execution_count": 23,
   "id": "34b09f1e",
   "metadata": {},
   "outputs": [
    {
     "name": "stdout",
     "output_type": "stream",
     "text": [
      "Assignment 4\n"
     ]
    }
   ],
   "source": [
    "#15. Write a Python program to remove newline characters from a file\n",
    "import random\n",
    "def random_line(fname):\n",
    "    lines = open(fname).read().splitlines()\n",
    "    return random.choice(lines)\n",
    "print(random_line('sample1.txt'))"
   ]
  },
  {
   "cell_type": "code",
   "execution_count": 24,
   "id": "325f0d62",
   "metadata": {},
   "outputs": [
    {
     "name": "stdout",
     "output_type": "stream",
     "text": [
      "Python practical\n"
     ]
    }
   ],
   "source": [
    "#16. Write a Python program that takes a text file as input and returns the number of words of a given text file.\n",
    "#Note: Some words can be separated by a comma with no space.\n",
    "import random\n",
    "def random_line(fname):\n",
    "    lines = open(fname).read().splitlines()\n",
    "    return random.choice(lines)\n",
    "print(random_line('sample1.txt'))"
   ]
  },
  {
   "cell_type": "code",
   "execution_count": 25,
   "id": "0ef834db",
   "metadata": {},
   "outputs": [
    {
     "name": "stdout",
     "output_type": "stream",
     "text": [
      "['Python practical', 'Assignment 4']\n"
     ]
    }
   ],
   "source": [
    "#17. Write a Python program to extract characters from various text files and puts them into a list.\n",
    "def remove_newlines(fname):\n",
    "    flist = open(fname).readlines()\n",
    "    return [s.rstrip('\\n') for s in flist]\n",
    "\n",
    "print(remove_newlines(\"sample1.txt\"))"
   ]
  },
  {
   "cell_type": "code",
   "execution_count": 26,
   "id": "187be960",
   "metadata": {},
   "outputs": [
    {
     "name": "stdout",
     "output_type": "stream",
     "text": [
      "INDIA time: 19:17:34\n"
     ]
    }
   ],
   "source": [
    "#18. Write a python program to get Current Time\n",
    "from datetime import *\n",
    "import pytz\n",
    "\n",
    "\n",
    "tz_INDIA = pytz.timezone('Asia/Kolkata')\n",
    "datetime_INDIA = datetime.now(tz_INDIA)\n",
    "print(\"INDIA time:\", datetime_INDIA.strftime(\"%H:%M:%S\"))"
   ]
  },
  {
   "cell_type": "code",
   "execution_count": 27,
   "id": "d72caa64",
   "metadata": {},
   "outputs": [
    {
     "name": "stdout",
     "output_type": "stream",
     "text": [
      "Time now  : 2022-02-28 19:17:47.337448\n"
     ]
    }
   ],
   "source": [
    "#19. Get Current Date and Time using Python\n",
    "import datetime\n",
    "current_time = datetime.datetime.now()\n",
    "print (\"Time now  : \", end = \"\")\n",
    "print (current_time)"
   ]
  },
  {
   "cell_type": "code",
   "execution_count": 28,
   "id": "259a0dd6",
   "metadata": {},
   "outputs": [
    {
     "name": "stdout",
     "output_type": "stream",
     "text": [
      "Yesterday =  27-02-2022\n",
      "Today =  28-02-2022\n",
      "Tomorrow =  01-03-2022\n"
     ]
    }
   ],
   "source": [
    "#20. Write a python | Find yesterday’s, today’s and tomorrow’s date\n",
    "from datetime import datetime, timedelta\n",
    "presentday = datetime.now() \n",
    "yesterday = presentday - timedelta(1)\n",
    "tomorrow = presentday + timedelta(1)\n",
    "print(\"Yesterday = \", yesterday.strftime('%d-%m-%Y'))\n",
    "print(\"Today = \", presentday.strftime('%d-%m-%Y'))\n",
    "print(\"Tomorrow = \", tomorrow.strftime('%d-%m-%Y'))"
   ]
  },
  {
   "cell_type": "code",
   "execution_count": 29,
   "id": "2950867e",
   "metadata": {},
   "outputs": [
    {
     "name": "stdout",
     "output_type": "stream",
     "text": [
      "23:05:45\n"
     ]
    }
   ],
   "source": [
    "#21. Write a python program to convert time from 12 hour to 24 hour format\n",
    "def convert24(str1):\n",
    "    if str1[-2:] == \"AM\" and str1[:2] == \"12\":\n",
    "        return \"00\" + str1[2:-2]\n",
    "    elif str1[-2:] == \"AM\":\n",
    "        return str1[:-2]\n",
    "    elif str1[-2:] == \"PM\" and str1[:2] == \"12\":\n",
    "        return str1[:-2]\n",
    "    else:\n",
    "        return str(int(str1[:2]) + 12) + str1[2:8]\n",
    "print(convert24(\"11:05:45 PM\"))"
   ]
  },
  {
   "cell_type": "code",
   "execution_count": null,
   "id": "96ddd9e8",
   "metadata": {},
   "outputs": [],
   "source": [
    "#22. Write a python program to find difference between current time and given time\n",
    "def difference(h1, m1, h2, m2):\n",
    "    t1 = h1 * 60 + m1\n",
    "    t2 = h2 * 60 + m2\n",
    "    if (t1 == t2):\n",
    "        print(\"Both are same times\")\n",
    "        return\n",
    "    else:\n",
    "        diff = t2-t1\n",
    "    h = (int(diff / 60)) % 24\n",
    "    m = diff % 60\n",
    "    print(h, \":\", m)\n",
    "if __name__ == \"__main__\":\n",
    "    difference(7, 20, 9, 45)\n",
    "    difference(15, 23, 15, 54)"
   ]
  },
  {
   "cell_type": "code",
   "execution_count": null,
   "id": "cf9c75ef",
   "metadata": {},
   "outputs": [],
   "source": [
    "#25. Find number of times every day occurs in a Year\n",
    "import datetime\n",
    "import calendar\n",
    "def day_occur_time(year):\n",
    "    days = [ \"Monday\", \"Tuesday\", \"Wednesday\",\"Thursday\", \"Friday\", \"Saturday\",\"Sunday\" ]\n",
    "    L = [52 for i in range(7)]\n",
    "    pos = -1\n",
    "    day = datetime.datetime(year, month = 1, day = 1).strftime(\"%A\")\n",
    "    for i in range(7):\n",
    "        if day == days[i]:\n",
    "            pos = i\n",
    "    if calendar.isleap(year):\n",
    "        L[pos] += 1\n",
    "        L[(pos+1)%7] += 1\n",
    "    else:\n",
    "        L[pos] += 1\n",
    "    for i in range(7):\n",
    "        print(days[i], L[i])\n",
    "year = 2022\n",
    "day_occur_time(year)"
   ]
  },
  {
   "cell_type": "code",
   "execution_count": null,
   "id": "8878fe51",
   "metadata": {},
   "outputs": [],
   "source": []
  }
 ],
 "metadata": {
  "kernelspec": {
   "display_name": "Python 3 (ipykernel)",
   "language": "python",
   "name": "python3"
  },
  "language_info": {
   "codemirror_mode": {
    "name": "ipython",
    "version": 3
   },
   "file_extension": ".py",
   "mimetype": "text/x-python",
   "name": "python",
   "nbconvert_exporter": "python",
   "pygments_lexer": "ipython3",
   "version": "3.9.7"
  }
 },
 "nbformat": 4,
 "nbformat_minor": 5
}
